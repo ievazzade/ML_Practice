{
 "cells": [
  {
   "cell_type": "code",
   "execution_count": 1,
   "metadata": {},
   "outputs": [
    {
     "name": "stderr",
     "output_type": "stream",
     "text": [
      "In /home/iman/anaconda3/envs/mdanalysis/lib/python3.6/site-packages/matplotlib/mpl-data/stylelib/_classic_test.mplstyle: \n",
      "The text.latex.preview rcparam was deprecated in Matplotlib 3.3 and will be removed two minor releases later.\n",
      "In /home/iman/anaconda3/envs/mdanalysis/lib/python3.6/site-packages/matplotlib/mpl-data/stylelib/_classic_test.mplstyle: \n",
      "The mathtext.fallback_to_cm rcparam was deprecated in Matplotlib 3.3 and will be removed two minor releases later.\n",
      "In /home/iman/anaconda3/envs/mdanalysis/lib/python3.6/site-packages/matplotlib/mpl-data/stylelib/_classic_test.mplstyle: Support for setting the 'mathtext.fallback_to_cm' rcParam is deprecated since 3.3 and will be removed two minor releases later; use 'mathtext.fallback : 'cm' instead.\n",
      "In /home/iman/anaconda3/envs/mdanalysis/lib/python3.6/site-packages/matplotlib/mpl-data/stylelib/_classic_test.mplstyle: \n",
      "The validate_bool_maybe_none function was deprecated in Matplotlib 3.3 and will be removed two minor releases later.\n",
      "In /home/iman/anaconda3/envs/mdanalysis/lib/python3.6/site-packages/matplotlib/mpl-data/stylelib/_classic_test.mplstyle: \n",
      "The savefig.jpeg_quality rcparam was deprecated in Matplotlib 3.3 and will be removed two minor releases later.\n",
      "In /home/iman/anaconda3/envs/mdanalysis/lib/python3.6/site-packages/matplotlib/mpl-data/stylelib/_classic_test.mplstyle: \n",
      "The keymap.all_axes rcparam was deprecated in Matplotlib 3.3 and will be removed two minor releases later.\n",
      "In /home/iman/anaconda3/envs/mdanalysis/lib/python3.6/site-packages/matplotlib/mpl-data/stylelib/_classic_test.mplstyle: \n",
      "The animation.avconv_path rcparam was deprecated in Matplotlib 3.3 and will be removed two minor releases later.\n",
      "In /home/iman/anaconda3/envs/mdanalysis/lib/python3.6/site-packages/matplotlib/mpl-data/stylelib/_classic_test.mplstyle: \n",
      "The animation.avconv_args rcparam was deprecated in Matplotlib 3.3 and will be removed two minor releases later.\n"
     ]
    }
   ],
   "source": [
    "import numpy as np\n",
    "import matplotlib.pyplot as plt\n",
    "\n",
    "from sklearn.datasets import load_iris\n",
    "from sklearn.model_selection import train_test_split, GridSearchCV, cross_val_score\n",
    "from sklearn.preprocessing import StandardScaler\n",
    "from sklearn.linear_model import SGDClassifier\n",
    "from sklearn.metrics import classification_report, confusion_matrix, f1_score, recall_score, precision_score"
   ]
  },
  {
   "cell_type": "code",
   "execution_count": 2,
   "metadata": {},
   "outputs": [
    {
     "name": "stdout",
     "output_type": "stream",
     "text": [
      "(150, 2)\n",
      "(150,)\n"
     ]
    }
   ],
   "source": [
    "iris = load_iris()\n",
    "\n",
    "X = iris[\"data\"][:, (2,3)]\n",
    "y = iris[\"target\"]\n",
    "\n",
    "print(X.shape)\n",
    "print(y.shape)"
   ]
  },
  {
   "cell_type": "code",
   "execution_count": 3,
   "metadata": {},
   "outputs": [],
   "source": [
    "X_train, X_test, y_train, y_test = train_test_split(X, y, test_size = 0.2, random_state = 42)"
   ]
  },
  {
   "cell_type": "code",
   "execution_count": 4,
   "metadata": {},
   "outputs": [],
   "source": [
    "scaler = StandardScaler()\n",
    "scaler.fit(X_train)\n",
    "\n",
    "X_train = scaler.transform(X_train)\n",
    "X_test = scaler.transform(X_test)"
   ]
  },
  {
   "cell_type": "code",
   "execution_count": 5,
   "metadata": {},
   "outputs": [
    {
     "name": "stdout",
     "output_type": "stream",
     "text": [
      "Fitting 3 folds for each of 648 candidates, totalling 1944 fits\n"
     ]
    },
    {
     "name": "stderr",
     "output_type": "stream",
     "text": [
      "[Parallel(n_jobs=-1)]: Using backend LokyBackend with 8 concurrent workers.\n",
      "[Parallel(n_jobs=-1)]: Done  34 tasks      | elapsed:    1.3s\n",
      "[Parallel(n_jobs=-1)]: Done 1685 tasks      | elapsed:    5.8s\n"
     ]
    },
    {
     "name": "stdout",
     "output_type": "stream",
     "text": [
      "Best Score (F1 micro):  0.9666666666666667\n",
      "Optimal Hyperparameter Values:  {'alpha': 0.01, 'eta0': 0.1, 'learning_rate': 'constant', 'max_iter': 500, 'penalty': 'l1', 'tol': 1e-05}\n",
      "CPU times: user 2.54 s, sys: 89.6 ms, total: 2.63 s\n",
      "Wall time: 7 s\n"
     ]
    },
    {
     "name": "stderr",
     "output_type": "stream",
     "text": [
      "[Parallel(n_jobs=-1)]: Done 1944 out of 1944 | elapsed:    7.0s finished\n"
     ]
    }
   ],
   "source": [
    "%%time\n",
    "\n",
    "param_grid = {'alpha': [0.05, 0.01, 0.001],\n",
    "              'penalty': ['l2', 'l1'],\n",
    "              'learning_rate': ['constant', 'optimal', 'invscaling', 'adaptive'],\n",
    "              'max_iter': [500, 1000, 3000],\n",
    "              'eta0': [0.1, 0.01, 0.001],\n",
    "              'tol': [1e-3, 1e-5, 1e-8]}\n",
    "\n",
    "sgd_clf = SGDClassifier(loss = 'log')\n",
    "sgd_clf_cv = GridSearchCV(sgd_clf, param_grid, scoring = 'f1_micro', cv=3, verbose = 1, n_jobs=-1)\n",
    "sgd_clf_cv.fit(X_train, y_train)\n",
    "\n",
    "params_optimal = sgd_clf_cv.best_params_\n",
    "\n",
    "print(\"Best Score (F1 micro): \", sgd_clf_cv.best_score_)\n",
    "print(\"Optimal Hyperparameter Values: \", params_optimal)"
   ]
  },
  {
   "cell_type": "code",
   "execution_count": 6,
   "metadata": {},
   "outputs": [
    {
     "data": {
      "text/plain": [
       "SGDClassifier(alpha=0.01, eta0=0.1, learning_rate='constant', loss='log',\n",
       "              max_iter=500, penalty='l1', tol=1e-05)"
      ]
     },
     "execution_count": 6,
     "metadata": {},
     "output_type": "execute_result"
    }
   ],
   "source": [
    "sgd = SGDClassifier(loss = 'log', **params_optimal)\n",
    "sgd.fit(X_train, y_train)"
   ]
  },
  {
   "cell_type": "code",
   "execution_count": 7,
   "metadata": {},
   "outputs": [
    {
     "name": "stdout",
     "output_type": "stream",
     "text": [
      "No. of Iterations:  69\n",
      "\n",
      "Weighted Coefficients:\n",
      " [[-3.39069748 -2.03916457]\n",
      " [ 1.28238902 -0.65423462]\n",
      " [ 2.91662313  3.87552248]]\n",
      "\n",
      "Weight Intercept:\n",
      " [-3.21350985 -0.6738178  -4.32412491]\n",
      "\n",
      "Test Accuracy 1.0\n",
      "\n",
      "Test Confusion Matrix (Test Data): \n",
      " [[10  0  0]\n",
      " [ 0  9  0]\n",
      " [ 0  0 11]]\n"
     ]
    }
   ],
   "source": [
    "print(\"No. of Iterations: \", sgd.n_iter_)\n",
    "\n",
    "print(\"\\nWeighted Coefficients:\\n\", sgd.coef_)\n",
    "print(\"\\nWeight Intercept:\\n\", sgd.intercept_)\n",
    "\n",
    "y_test_pred = sgd.predict(X_test)\n",
    "accuracy_score_test = np.mean(y_test_pred==y_test)\n",
    "print(\"\\nTest Accuracy\", accuracy_score_test)\n",
    "\n",
    "print(\"\\nTest Confusion Matrix (Test Data): \\n\", confusion_matrix(y_test, y_test_pred))\n"
   ]
  },
  {
   "cell_type": "code",
   "execution_count": 19,
   "metadata": {},
   "outputs": [],
   "source": [
    "def plot_db(clf, X, y):\n",
    "    x1_min, x1_max = X[:,0].min()-1, X[:,0].max()+1\n",
    "    x2_min, x2_max = X[:,1].min()-1, X[:,1].max()+1\n",
    "\n",
    "    x1 = np.linspace(x1_min, x1_max, 100)\n",
    "    x2 = np.linspace(x2_min, x2_max, 100)\n",
    "    xx1, xx2 = np.meshgrid(x1, x2)\n",
    "    \n",
    "    xx = np.c_[xx1.ravel(),xx2.ravel()]\n",
    "    yy = clf.predict(xx)\n",
    "\n",
    "    plt.scatter(xx[:,0], xx[:,1], c = yy)\n",
    "    plt.scatter(X[y==0, 0], X[y==0, 1])\n",
    "    plt.scatter(X[y==1, 0], X[y==1, 1])\n",
    "    plt.scatter(X[y==2,0], X[y==2,1])"
   ]
  },
  {
   "cell_type": "code",
   "execution_count": 20,
   "metadata": {},
   "outputs": [
    {
     "data": {
      "image/png": "[encoded data removed]",
      "text/plain": [
       "<Figure size 432x288 with 1 Axes>"
      ]
     },
     "metadata": {
      "needs_background": "light"
     },
     "output_type": "display_data"
    }
   ],
   "source": [
    "plot_db(sgd, X_train, y_train)"
   ]
  },
  {
   "cell_type": "code",
   "execution_count": 10,
   "metadata": {},
   "outputs": [
    {
     "name": "stdout",
     "output_type": "stream",
     "text": [
      "Fitting 3 folds for each of 648 candidates, totalling 1944 fits\n"
     ]
    },
    {
     "name": "stderr",
     "output_type": "stream",
     "text": [
      "[Parallel(n_jobs=-1)]: Using backend LokyBackend with 8 concurrent workers.\n",
      "[Parallel(n_jobs=-1)]: Done  56 tasks      | elapsed:    0.4s\n",
      "[Parallel(n_jobs=-1)]: Done 1905 tasks      | elapsed:    9.0s\n"
     ]
    },
    {
     "name": "stdout",
     "output_type": "stream",
     "text": [
      "Best Score (F1 micro):  0.9666666666666667\n",
      "Optimal Hyperparameter Values:  {'alpha': 0.01, 'eta0': 0.1, 'learning_rate': 'constant', 'max_iter': 500, 'penalty': 'l1', 'tol': 1e-05}\n",
      "CPU times: user 2.59 s, sys: 39.7 ms, total: 2.63 s\n",
      "Wall time: 9.37 s\n"
     ]
    },
    {
     "name": "stderr",
     "output_type": "stream",
     "text": [
      "[Parallel(n_jobs=-1)]: Done 1944 out of 1944 | elapsed:    9.3s finished\n"
     ]
    }
   ],
   "source": [
    "%%time\n",
    "\n",
    "param_grid = {'alpha': [0.05, 0.01, 0.001],\n",
    "              'penalty': ['l2', 'l1'],\n",
    "              'learning_rate': ['constant', 'optimal', 'invscaling', 'adaptive'],\n",
    "              'max_iter': [500, 1000, 3000],\n",
    "              'eta0': [0.1, 0.01, 0.001],\n",
    "              'tol': [1e-3, 1e-5, 1e-8]}\n",
    "\n",
    "sgd_clf_es = SGDClassifier(loss = 'log', early_stopping=True)\n",
    "sgd_clf_es_cv = GridSearchCV(sgd_clf_es, param_grid, scoring = 'f1_micro', cv=3, verbose = 1, n_jobs=-1)\n",
    "sgd_clf_es_cv.fit(X_train, y_train)\n",
    "\n",
    "params_optimal_es = sgd_clf_es_cv.best_params_\n",
    "\n",
    "print(\"Best Score (F1 micro): \", sgd_clf_es_cv.best_score_)\n",
    "print(\"Optimal Hyperparameter Values: \", params_optimal)"
   ]
  },
  {
   "cell_type": "code",
   "execution_count": 11,
   "metadata": {},
   "outputs": [
    {
     "data": {
      "text/plain": [
       "SGDClassifier(alpha=0.01, early_stopping=True, eta0=0.01, loss='log', tol=1e-05)"
      ]
     },
     "execution_count": 11,
     "metadata": {},
     "output_type": "execute_result"
    }
   ],
   "source": [
    "sgd_early_stopping = SGDClassifier(loss='log', early_stopping=True, **params_optimal_es)\n",
    "\n",
    "sgd_early_stopping.fit(X_train, y_train)"
   ]
  },
  {
   "cell_type": "code",
   "execution_count": 12,
   "metadata": {},
   "outputs": [
    {
     "name": "stdout",
     "output_type": "stream",
     "text": [
      "\n",
      "No. of Iterations: 6\n",
      "\n",
      "Weight Coefficients:\n",
      " [[-2.24887987 -2.00919325]\n",
      " [ 1.12916975 -0.67641386]\n",
      " [ 2.31621952  2.4934623 ]]\n",
      "\n",
      "Weight Intercept:\n",
      " [-2.51163412 -0.6104525  -3.07077598]\n",
      "\n",
      "Test Accuracy:  1.0\n",
      "\n",
      "Test Confusion Matrix (Test Data):\n",
      " [[10  0  0]\n",
      " [ 0  9  0]\n",
      " [ 0  0 11]]\n"
     ]
    }
   ],
   "source": [
    "print(\"\\nNo. of Iterations:\", sgd_early_stopping.n_iter_ )\n",
    "\n",
    "print(\"\\nWeight Coefficients:\\n\", sgd_early_stopping.coef_ )\n",
    "\n",
    "print(\"\\nWeight Intercept:\\n\", sgd_early_stopping.intercept_ )\n",
    "\n",
    "y_test_predict = sgd_early_stopping.predict(X_test)\n",
    "#print(y_test_predict)\n",
    "\n",
    "accuracy_score_test = np.mean(y_test_predict == y_test)\n",
    "print(\"\\nTest Accuracy: \", accuracy_score_test)\n",
    "\n",
    "# Confusion Matrix\n",
    "print(\"\\nTest Confusion Matrix (Test Data):\\n\", confusion_matrix(y_test, y_test_predict))"
   ]
  },
  {
   "cell_type": "code",
   "execution_count": 13,
   "metadata": {},
   "outputs": [
    {
     "name": "stdout",
     "output_type": "stream",
     "text": [
      "\n",
      "Weight Coefficients (Without Early Stopping):\n",
      " [[-3.39069748 -2.03916457]\n",
      " [ 1.28238902 -0.65423462]\n",
      " [ 2.91662313  3.87552248]]\n",
      "\n",
      "Weight Coefficients (Early Stopping):\n",
      " [[-2.24887987 -2.00919325]\n",
      " [ 1.12916975 -0.67641386]\n",
      " [ 2.31621952  2.4934623 ]]\n",
      "\n",
      "No. of Iterations (Without Early Stopping): 69\n",
      "No. of Iterations (Early Stopping): 6\n"
     ]
    }
   ],
   "source": [
    "print(\"\\nWeight Coefficients (Without Early Stopping):\\n\", sgd.coef_ )\n",
    "print(\"\\nWeight Coefficients (Early Stopping):\\n\", sgd_early_stopping.coef_)\n",
    "\n",
    "print(\"\\nNo. of Iterations (Without Early Stopping):\", sgd.n_iter_ )\n",
    "print(\"No. of Iterations (Early Stopping):\", sgd_early_stopping.n_iter_ )"
   ]
  },
  {
   "cell_type": "code",
   "execution_count": null,
   "metadata": {},
   "outputs": [],
   "source": []
  },
  {
   "cell_type": "code",
   "execution_count": 22,
   "metadata": {},
   "outputs": [
    {
     "data": {
      "image/png": "[encoded data removed]",
      "text/plain": [
       "<Figure size 432x288 with 1 Axes>"
      ]
     },
     "metadata": {
      "needs_background": "light"
     },
     "output_type": "display_data"
    }
   ],
   "source": [
    "plot_db(sgd_early_stopping, X_train, y_train)"
   ]
  },
  {
   "cell_type": "code",
   "execution_count": null,
   "metadata": {},
   "outputs": [],
   "source": []
  }
 ],
 "metadata": {
  "interpreter": {
   "hash": "7c2ff857100bde34f48f5e0e98e176447aec4667c4de751b477b7367cfbdc006"
  },
  "kernelspec": {
   "display_name": "Python 3.6.12 ('mdanalysis')",
   "language": "python",
   "name": "python3"
  },
  "language_info": {
   "codemirror_mode": {
    "name": "ipython",
    "version": 3
   },
   "file_extension": ".py",
   "mimetype": "text/x-python",
   "name": "python",
   "nbconvert_exporter": "python",
   "pygments_lexer": "ipython3",
   "version": "3.6.12"
  },
  "orig_nbformat": 4
 },
 "nbformat": 4,
 "nbformat_minor": 2
}
