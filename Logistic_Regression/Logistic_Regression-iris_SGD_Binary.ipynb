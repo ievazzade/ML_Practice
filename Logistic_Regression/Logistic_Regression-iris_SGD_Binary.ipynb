{
 "cells": [
  {
   "cell_type": "code",
   "execution_count": 13,
   "metadata": {},
   "outputs": [],
   "source": [
    "import warnings\n",
    "import numpy as np\n",
    "import matplotlib.pyplot as plt\n",
    "\n",
    "\n",
    "\n",
    "from sklearn.datasets import load_iris\n",
    "from sklearn.model_selection import train_test_split, GridSearchCV, cross_val_score\n",
    "from sklearn.preprocessing import StandardScaler\n",
    "from sklearn.linear_model import SGDClassifier\n",
    "from sklearn.metrics import confusion_matrix, classification_report, f1_score, precision_score, recall_score"
   ]
  },
  {
   "cell_type": "code",
   "execution_count": 2,
   "metadata": {},
   "outputs": [
    {
     "name": "stdout",
     "output_type": "stream",
     "text": [
      "Key Values:\n",
      " ['data', 'target', 'frame', 'target_names', 'DESCR', 'feature_names', 'filename']\n",
      "\n",
      "Featue names: \n",
      " ['sepal length (cm)', 'sepal width (cm)', 'petal length (cm)', 'petal width (cm)']\n",
      "\n",
      "Target names:\n",
      " ['setosa', 'versicolor', 'virginica']\n"
     ]
    }
   ],
   "source": [
    "iris = load_iris()\n",
    "\n",
    "print(\"Key Values:\\n\", list(iris.keys()))\n",
    "print(\"\\nFeatue names: \\n\", list(iris.feature_names))\n",
    "print(\"\\nTarget names:\\n\", list(iris.target_names))"
   ]
  },
  {
   "cell_type": "code",
   "execution_count": 3,
   "metadata": {},
   "outputs": [
    {
     "name": "stdout",
     "output_type": "stream",
     "text": [
      "(150, 2)\n",
      "(150,)\n"
     ]
    }
   ],
   "source": [
    "X = iris[\"data\"][:,(2,3)]\n",
    "y = (iris[\"target\"]==2).astype(int)\n",
    "\n",
    "print(X.shape)\n",
    "print(y.shape)"
   ]
  },
  {
   "cell_type": "code",
   "execution_count": 4,
   "metadata": {},
   "outputs": [],
   "source": [
    "X_train, X_test, y_train, y_test = train_test_split(X, y, test_size=0.2, random_state=42)"
   ]
  },
  {
   "cell_type": "code",
   "execution_count": 5,
   "metadata": {},
   "outputs": [],
   "source": [
    "scaler = StandardScaler()\n",
    "\n",
    "scaler.fit(X_train)\n",
    "\n",
    "X_train = scaler.transform(X_train)\n",
    "X_test = scaler.transform(X_test)"
   ]
  },
  {
   "cell_type": "code",
   "execution_count": 6,
   "metadata": {},
   "outputs": [
    {
     "name": "stdout",
     "output_type": "stream",
     "text": [
      "Fitting 3 folds for each of 648 candidates, totalling 1944 fits\n"
     ]
    },
    {
     "name": "stderr",
     "output_type": "stream",
     "text": [
      "[Parallel(n_jobs=-1)]: Using backend LokyBackend with 12 concurrent workers.\n",
      "[Parallel(n_jobs=-1)]: Done  26 tasks      | elapsed:    3.2s\n",
      "[Parallel(n_jobs=-1)]: Done 560 tasks      | elapsed:    3.9s\n",
      "[Parallel(n_jobs=-1)]: Done 1944 out of 1944 | elapsed:    4.8s finished\n"
     ]
    },
    {
     "name": "stdout",
     "output_type": "stream",
     "text": [
      "\n",
      "Best Score (F1 micro):  0.9666666666666667\n",
      "\n",
      "Optimal Hyperparameter Values:  {'alpha': 0.05, 'eta0': 0.1, 'learning_rate': 'invscaling', 'max_iter': 3000, 'penalty': 'l2', 'tol': 0.001}\n",
      "CPU times: user 2.53 s, sys: 158 ms, total: 2.69 s\n",
      "Wall time: 5.89 s\n"
     ]
    }
   ],
   "source": [
    "%%time\n",
    "warnings.filterwarnings('ignore')\n",
    "\n",
    "param_grid = {'alpha' : [0.05, 0.01, 0.001],\n",
    "              'penalty' : [\"l2\", \"l1\"],\n",
    "              'learning_rate' : [\"constant\", \"optimal\", \"invscaling\", \"adaptive\"],\n",
    "              'eta0' : [0.1, 0.01, 0.001],\n",
    "              'max_iter' : [500, 1000, 3000],\n",
    "              'tol' : [1e-3, 1e-5, 1e-8]}\n",
    "\n",
    "sgd_clf = SGDClassifier(loss='log')\n",
    "sgd_clf_cv = GridSearchCV(sgd_clf, param_grid, scoring = 'f1_micro', cv=3, verbose=1, n_jobs=-1)\n",
    "sgd_clf_cv.fit(X_train, y_train)\n",
    "\n",
    "params_optimal = sgd_clf_cv.best_params_\n",
    "\n",
    "print(\"\\nBest Score (F1 micro): \", sgd_clf_cv.best_score_)\n",
    "print(\"\\nOptimal Hyperparameter Values: \", params_optimal)\n"
   ]
  },
  {
   "cell_type": "code",
   "execution_count": 9,
   "metadata": {},
   "outputs": [
    {
     "data": {
      "text/plain": [
       "SGDClassifier(alpha=0.05, eta0=0.1, learning_rate='invscaling', loss='log',\n",
       "              max_iter=3000)"
      ]
     },
     "execution_count": 9,
     "metadata": {},
     "output_type": "execute_result"
    }
   ],
   "source": [
    "sgd = SGDClassifier(loss = 'log', **params_optimal)\n",
    "sgd.fit(X_train, y_train)"
   ]
  },
  {
   "cell_type": "code",
   "execution_count": 37,
   "metadata": {},
   "outputs": [
    {
     "name": "stdout",
     "output_type": "stream",
     "text": [
      "Train Accuracy:  0.975\n",
      "\n",
      "Train Confusion Matrix: \n",
      " [[78  3]\n",
      " [ 0 39]]\n",
      "\n",
      "Test Accuracy: 0.967\n",
      "\n",
      "Test Confusion Matrix: \n",
      " [[18  1]\n",
      " [ 0 11]]\n",
      "\n",
      "Test Precision = 0.92\n",
      "Test Recall =  1.0\n",
      "Test F1 Score = 0.96\n",
      "\n",
      "Classification Report: \n",
      "               precision    recall  f1-score   support\n",
      "\n",
      "           0       1.00      0.95      0.97        19\n",
      "           1       0.92      1.00      0.96        11\n",
      "\n",
      "    accuracy                           0.97        30\n",
      "   macro avg       0.96      0.97      0.96        30\n",
      "weighted avg       0.97      0.97      0.97        30\n",
      "\n"
     ]
    }
   ],
   "source": [
    "y_train_predicted = sgd.predict(X_train)\n",
    "print(\"Train Accuracy: \", np.mean(y_train_predicted==y_train))\n",
    "print(\"\\nTrain Confusion Matrix: \\n\", confusion_matrix(y_train, y_train_predicted))\n",
    "\n",
    "y_test_predicted = sgd.predict(X_test)\n",
    "print(\"\\nTest Accuracy: {:5.3f}\".format(np.mean(y_test == y_test_predicted)))\n",
    "print(\"\\nTest Confusion Matrix: \\n\", confusion_matrix(y_test, y_test_predicted))\n",
    "print(\"\\nTest Precision = %.2f\"%precision_score(y_test, y_test_predicted))\n",
    "print(\"Test Recall = \", recall_score(y_test, y_test_predicted))\n",
    "print(\"Test F1 Score = %.2f\"%f1_score(y_test, y_test_predicted))\n",
    "print(\"\\nClassification Report: \\n\", classification_report(y_test, y_test_predicted))"
   ]
  },
  {
   "cell_type": "code",
   "execution_count": null,
   "metadata": {},
   "outputs": [],
   "source": []
  }
 ],
 "metadata": {
  "interpreter": {
   "hash": "4fa7c89065bd7235d3511eb9aa79de33a046abcaff445ed41c2ee96e6b13882d"
  },
  "kernelspec": {
   "display_name": "Python 3.7.6 64-bit ('mdanalysis': conda)",
   "language": "python",
   "name": "python3"
  },
  "language_info": {
   "codemirror_mode": {
    "name": "ipython",
    "version": 3
   },
   "file_extension": ".py",
   "mimetype": "text/x-python",
   "name": "python",
   "nbconvert_exporter": "python",
   "pygments_lexer": "ipython3",
   "version": "3.7.6"
  },
  "orig_nbformat": 4
 },
 "nbformat": 4,
 "nbformat_minor": 2
}
