{
 "cells": [
  {
   "cell_type": "code",
   "execution_count": 1,
   "metadata": {},
   "outputs": [],
   "source": [
    "import os\n",
    "import zipfile\n",
    "import numpy as np\n",
    "import tensorflow as tf\n",
    "from tensorflow.keras.layers import Dense, Conv2D, MaxPool2D, Flatten, Dropout\n",
    "from tensorflow.keras.optimizers import RMSprop\n",
    "from tensorflow.keras.preprocessing.image import ImageDataGenerator, img_to_array, load_img\n"
   ]
  },
  {
   "cell_type": "code",
   "execution_count": 2,
   "metadata": {},
   "outputs": [
    {
     "name": "stdout",
     "output_type": "stream",
     "text": [
      "--2022-04-04 22:30:17--  https://storage.googleapis.com/tensorflow-1-public/course2/week3/horse-or-human.zip\n",
      "Resolving storage.googleapis.com (storage.googleapis.com)... 2607:f8b0:400f:807::2010, 2607:f8b0:400f:802::2010, 2607:f8b0:400f:803::2010, ...\n",
      "Connecting to storage.googleapis.com (storage.googleapis.com)|2607:f8b0:400f:807::2010|:443... connected.\n",
      "HTTP request sent, awaiting response... 200 OK\n",
      "Length: 149574867 (143M) [application/zip]\n",
      "Saving to: ‘../../Datasets/horse-or-human/horse-or-human.zip’\n",
      "\n",
      "../../Datasets/hors 100%[===================>] 142.65M  10.9MB/s    in 13s     \n",
      "\n",
      "2022-04-04 22:30:31 (10.6 MB/s) - ‘../../Datasets/horse-or-human/horse-or-human.zip’ saved [149574867/149574867]\n",
      "\n",
      "--2022-04-04 22:30:31--  https://storage.googleapis.com/tensorflow-1-public/course2/week3/validation-horse-or-human.zip\n",
      "Resolving storage.googleapis.com (storage.googleapis.com)... 2607:f8b0:400f:802::2010, 2607:f8b0:400f:803::2010, 2607:f8b0:400f:804::2010, ...\n",
      "Connecting to storage.googleapis.com (storage.googleapis.com)|2607:f8b0:400f:802::2010|:443... connected.\n",
      "HTTP request sent, awaiting response... 200 OK\n",
      "Length: 11480187 (11M) [application/zip]\n",
      "Saving to: ‘../../Datasets/horse-or-human/validation-horse-or-human.zip’\n",
      "\n",
      "../../Datasets/hors 100%[===================>]  10.95M  9.50MB/s    in 1.2s    \n",
      "\n",
      "2022-04-04 22:30:33 (9.50 MB/s) - ‘../../Datasets/horse-or-human/validation-horse-or-human.zip’ saved [11480187/11480187]\n",
      "\n"
     ]
    }
   ],
   "source": [
    "!wget --no-check-certificate \\\n",
    "    https://storage.googleapis.com/tensorflow-1-public/course2/week3/horse-or-human.zip \\\n",
    "    -O ../../Datasets/horse-or-human/horse-or-human.zip\n",
    "\n",
    "!wget --no-check-certificate \\\n",
    "    https://storage.googleapis.com/tensorflow-1-public/course2/week3/validation-horse-or-human.zip \\\n",
    "        -O ../../Datasets/horse-or-human/validation-horse-or-human.zip"
   ]
  },
  {
   "cell_type": "code",
   "execution_count": 4,
   "metadata": {},
   "outputs": [],
   "source": [
    "def extractZip(local_zip, dir):\n",
    "    zip_ref = zipfile.ZipFile(local_zip, 'r')\n",
    "    zip_ref.extractall(dir)\n",
    "\n",
    "    zip_ref.close()\n",
    "\n",
    "training_zip = '../../Datasets/horse-or-human/horse-or-human.zip'\n",
    "extractZip(training_zip, '../../Datasets/horse-or-human/training')\n",
    "\n",
    "validation_zip = '../../Datasets/horse-or-human/validation-horse-or-human.zip'\n",
    "extractZip(validation_zip, '../../Datasets/horse-or-human/validaiton')"
   ]
  },
  {
   "cell_type": "code",
   "execution_count": 8,
   "metadata": {},
   "outputs": [
    {
     "name": "stdout",
     "output_type": "stream",
     "text": [
      "There are 500 images in training horse directore\n",
      "There are 527 images in training human directore\n",
      "There are 128 images in validation horse directore\n",
      "There are 128 images in validation human directore\n"
     ]
    }
   ],
   "source": [
    "training_dir = '../../Datasets/horse-or-human/training'\n",
    "validation_dir = '../../Datasets/horse-or-human/validaiton'\n",
    "\n",
    "train_horse_dir = os.path.join(training_dir, 'horses')\n",
    "train_human_dir = os.path.join(training_dir, 'humans')\n",
    "\n",
    "validation_horse_dir = os.path.join(validation_dir, 'horses')\n",
    "validation_human_dir = os.path.join(validation_dir, 'humans')\n",
    "\n",
    "print(\"There are {} images in training horse directore\".format(len(os.listdir(train_horse_dir))))\n",
    "print(\"There are {} images in training human directore\".format(len(os.listdir(train_human_dir))))\n",
    "\n",
    "print(\"There are {} images in validation horse directore\".format(len(os.listdir(validation_horse_dir))))\n",
    "print(\"There are {} images in validation human directore\".format(len(os.listdir(validation_human_dir))))"
   ]
  },
  {
   "cell_type": "code",
   "execution_count": null,
   "metadata": {},
   "outputs": [],
   "source": []
  }
 ],
 "metadata": {
  "interpreter": {
   "hash": "f3191fe16ac2b04b2b68be3cfbf9890188e5b4492c7aa22c6d5887c51209e689"
  },
  "kernelspec": {
   "display_name": "Python 3.7.6 ('DataScience')",
   "language": "python",
   "name": "python3"
  },
  "language_info": {
   "codemirror_mode": {
    "name": "ipython",
    "version": 3
   },
   "file_extension": ".py",
   "mimetype": "text/x-python",
   "name": "python",
   "nbconvert_exporter": "python",
   "pygments_lexer": "ipython3",
   "version": "3.7.6"
  },
  "orig_nbformat": 4
 },
 "nbformat": 4,
 "nbformat_minor": 2
}
