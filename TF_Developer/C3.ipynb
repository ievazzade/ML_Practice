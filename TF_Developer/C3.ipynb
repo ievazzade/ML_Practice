{
 "cells": [
  {
   "cell_type": "code",
   "execution_count": 1,
   "metadata": {},
   "outputs": [],
   "source": [
    "from tensorflow.keras.preprocessing.text import Tokenizer\n",
    "from tensorflow.keras.preprocessing.sequence import pad_sequences"
   ]
  },
  {
   "cell_type": "code",
   "execution_count": 7,
   "metadata": {},
   "outputs": [
    {
     "name": "stdout",
     "output_type": "stream",
     "text": [
      "{'i': 1, 'love': 2, 'my': 3, 'dog': 4, 'cat': 5, 'he': 6, 'loves': 7}\n",
      "[[1 2 3 4]\n",
      " [1 2 3 5]\n",
      " [6 7 4 0]]\n"
     ]
    }
   ],
   "source": [
    "# Define input sentences\n",
    "\n",
    "sentences = [\n",
    "    \"I love my dog.\",\n",
    "    \"i love my cat.\",\n",
    "    \"he loves dog!\"\n",
    "]\n",
    "\n",
    "# Initialize the Tokenizer class\n",
    "tokenizer = Tokenizer(num_words=10)\n",
    "\n",
    "# Generate indices for each word in the corpus\n",
    "tokenizer.fit_on_texts(sentences)\n",
    "\n",
    "word_index = tokenizer.word_index\n",
    "print(word_index)\n",
    "sequences = tokenizer.texts_to_sequences(sentences)\n",
    "\n",
    "padded = pad_sequences(sequences, padding='post')\n",
    "print(padded)"
   ]
  },
  {
   "cell_type": "markdown",
   "metadata": {},
   "source": [
    "# Tokenizing the sarcasm dataset"
   ]
  },
  {
   "cell_type": "code",
   "execution_count": 15,
   "metadata": {},
   "outputs": [
    {
     "name": "stdout",
     "output_type": "stream",
     "text": [
      "--2022-04-12 08:37:09--  https://storage.googleapis.com/tensorflow-1-public/course3/sarcasm.json\n",
      "Resolving storage.googleapis.com (storage.googleapis.com)... 2607:f8b0:400f:803::2010, 2607:f8b0:400f:804::2010, 2607:f8b0:400f:807::2010, ...\n",
      "Connecting to storage.googleapis.com (storage.googleapis.com)|2607:f8b0:400f:803::2010|:443... connected.\n",
      "HTTP request sent, awaiting response... 200 OK\n",
      "Length: 5643545 (5.4M) [application/json]\n",
      "Saving to: ‘sarcasm.json’\n",
      "\n",
      "sarcasm.json        100%[===================>]   5.38M  10.0MB/s    in 0.5s    \n",
      "\n",
      "2022-04-12 08:37:10 (10.0 MB/s) - ‘sarcasm.json’ saved [5643545/5643545]\n",
      "\n"
     ]
    }
   ],
   "source": [
    "!wget https://storage.googleapis.com/tensorflow-1-public/course3/sarcasm.json"
   ]
  },
  {
   "cell_type": "code",
   "execution_count": 19,
   "metadata": {},
   "outputs": [],
   "source": [
    "import json\n",
    "\n",
    "with open(\"./sarcasm.json\", 'r') as f:\n",
    "    datastore  = json.load(f)"
   ]
  },
  {
   "cell_type": "code",
   "execution_count": 25,
   "metadata": {},
   "outputs": [
    {
     "name": "stdout",
     "output_type": "stream",
     "text": [
      "Non-sarcastic headline:\n",
      " {'article_link': 'https://www.huffingtonpost.com/entry/versace-black-code_us_5861fbefe4b0de3a08f600d5', 'headline': \"former versace store clerk sues over secret 'black code' for minority shoppers\", 'is_sarcastic': 0}\n",
      "\n",
      "Sarcastic headline:\n",
      " {'article_link': 'https://www.theonion.com/pediatricians-announce-2011-newborns-are-ugliest-babies-1819572977', 'headline': 'pediatricians announce 2011 newborns are ugliest babies in 30 years', 'is_sarcastic': 1}\n"
     ]
    }
   ],
   "source": [
    "print(\"Non-sarcastic headline:\\n\",datastore[0])\n",
    "print(\"\\nSarcastic headline:\\n\",datastore[20000])"
   ]
  },
  {
   "cell_type": "code",
   "execution_count": 30,
   "metadata": {},
   "outputs": [],
   "source": [
    "sentences=[]\n",
    "labels=[]\n",
    "urls=[]\n",
    "\n",
    "for row in datastore:\n",
    "    sentences.append(row['headline'])\n",
    "    labels.append(row['is_sarcastic'])\n",
    "    urls.append(row['article_link'])\n"
   ]
  },
  {
   "cell_type": "markdown",
   "metadata": {},
   "source": [
    "## Pre-processing the headlines"
   ]
  },
  {
   "cell_type": "code",
   "execution_count": 31,
   "metadata": {},
   "outputs": [],
   "source": [
    "from tensorflow.keras.preprocessing.text import Tokenizer\n",
    "from tensorflow.keras.preprocessing.sequence import pad_sequences"
   ]
  },
  {
   "cell_type": "code",
   "execution_count": 42,
   "metadata": {},
   "outputs": [
    {
     "name": "stdout",
     "output_type": "stream",
     "text": [
      "Number of words in word_index: 29657\n",
      "Sample headline:\n",
      " mom starting to fear son's web series closest thing she will have to grandchild\n",
      "Padded sequence: \n",
      " [  145   838     2   907  1749  2093   582  4719   221   143    39    46\n",
      "     2 10736     0     0     0     0     0     0     0     0     0     0\n",
      "     0     0     0     0     0     0     0     0     0     0     0     0\n",
      "     0     0     0     0]\n",
      "Shape of padded sequences:  (26709, 40)\n"
     ]
    }
   ],
   "source": [
    "# Initialize the Tokenizer class\n",
    "tokenizer = Tokenizer(oov_token='<OOV>')\n",
    "\n",
    "# Generate the word index dictionary\n",
    "tokenizer.fit_on_texts(sentences)\n",
    "\n",
    "# Print the length of the word index\n",
    "word_index = tokenizer.word_index\n",
    "print(f\"Number of words in word_index: {len(word_index)}\")\n",
    "\n",
    "# # Print the word index\n",
    "# print(\"word_index\", word_index)\n",
    "\n",
    "# Generate and pad the sequences\n",
    "sequences = tokenizer.texts_to_sequences(sentences)\n",
    "padded = pad_sequences(sequences, padding='post')\n",
    "\n",
    "# Print sample headline\n",
    "index = 2\n",
    "print(\"Sample headline:\\n\", sentences[index])\n",
    "print(\"Padded sequence: \\n\", padded[index])\n",
    "\n",
    "# Print dimensions of padded sequences\n",
    "print(\"Shape of padded sequences: \",padded.shape)"
   ]
  },
  {
   "cell_type": "markdown",
   "metadata": {},
   "source": [
    "## Training a binary classifier with the IMDB reviews dataset"
   ]
  },
  {
   "cell_type": "code",
   "execution_count": 1,
   "metadata": {},
   "outputs": [],
   "source": [
    "import numpy as np"
   ]
  },
  {
   "cell_type": "code",
   "execution_count": 3,
   "metadata": {},
   "outputs": [
    {
     "name": "stderr",
     "output_type": "stream",
     "text": [
      "2022-04-12 14:20:49.058133: I tensorflow/core/platform/cpu_feature_guard.cc:142] This TensorFlow binary is optimized with oneAPI Deep Neural Network Library (oneDNN) to use the following CPU instructions in performance-critical operations:  SSE4.1 SSE4.2 AVX AVX2 FMA\n",
      "To enable them in other operations, rebuild TensorFlow with the appropriate compiler flags.\n"
     ]
    }
   ],
   "source": [
    "import tensorflow_datasets as tfds\n",
    "\n",
    "# Load the IMDVB Reviews dataset\n",
    "imdb, info = tfds.load('imdb_reviews', with_info=True, as_supervised=True)"
   ]
  },
  {
   "cell_type": "code",
   "execution_count": 4,
   "metadata": {},
   "outputs": [
    {
     "name": "stdout",
     "output_type": "stream",
     "text": [
      "tfds.core.DatasetInfo(\n",
      "    name='imdb_reviews',\n",
      "    full_name='imdb_reviews/plain_text/1.0.0',\n",
      "    description=\"\"\"\n",
      "    Large Movie Review Dataset.\n",
      "    This is a dataset for binary sentiment classification containing substantially more data than previous benchmark datasets. We provide a set of 25,000 highly polar movie reviews for training, and 25,000 for testing. There is additional unlabeled data for use as well.\n",
      "    \"\"\",\n",
      "    config_description=\"\"\"\n",
      "    Plain text\n",
      "    \"\"\",\n",
      "    homepage='http://ai.stanford.edu/~amaas/data/sentiment/',\n",
      "    data_path='/Users/iman/tensorflow_datasets/imdb_reviews/plain_text/1.0.0',\n",
      "    download_size=80.23 MiB,\n",
      "    dataset_size=129.83 MiB,\n",
      "    features=FeaturesDict({\n",
      "        'label': ClassLabel(shape=(), dtype=tf.int64, num_classes=2),\n",
      "        'text': Text(shape=(), dtype=tf.string),\n",
      "    }),\n",
      "    supervised_keys=('text', 'label'),\n",
      "    disable_shuffling=False,\n",
      "    splits={\n",
      "        'test': <SplitInfo num_examples=25000, num_shards=1>,\n",
      "        'train': <SplitInfo num_examples=25000, num_shards=1>,\n",
      "        'unsupervised': <SplitInfo num_examples=50000, num_shards=1>,\n",
      "    },\n",
      "    citation=\"\"\"@InProceedings{maas-EtAl:2011:ACL-HLT2011,\n",
      "      author    = {Maas, Andrew L.  and  Daly, Raymond E.  and  Pham, Peter T.  and  Huang, Dan  and  Ng, Andrew Y.  and  Potts, Christopher},\n",
      "      title     = {Learning Word Vectors for Sentiment Analysis},\n",
      "      booktitle = {Proceedings of the 49th Annual Meeting of the Association for Computational Linguistics: Human Language Technologies},\n",
      "      month     = {June},\n",
      "      year      = {2011},\n",
      "      address   = {Portland, Oregon, USA},\n",
      "      publisher = {Association for Computational Linguistics},\n",
      "      pages     = {142--150},\n",
      "      url       = {http://www.aclweb.org/anthology/P11-1015}\n",
      "    }\"\"\",\n",
      ")\n"
     ]
    }
   ],
   "source": [
    "print(info)"
   ]
  },
  {
   "cell_type": "code",
   "execution_count": 5,
   "metadata": {},
   "outputs": [
    {
     "name": "stdout",
     "output_type": "stream",
     "text": [
      "{'train': <PrefetchDataset shapes: ((), ()), types: (tf.string, tf.int64)>, 'test': <PrefetchDataset shapes: ((), ()), types: (tf.string, tf.int64)>, 'unsupervised': <PrefetchDataset shapes: ((), ()), types: (tf.string, tf.int64)>}\n"
     ]
    }
   ],
   "source": [
    "print(imdb)"
   ]
  },
  {
   "cell_type": "code",
   "execution_count": 7,
   "metadata": {},
   "outputs": [
    {
     "name": "stdout",
     "output_type": "stream",
     "text": [
      "(<tf.Tensor: shape=(), dtype=string, numpy=b\"This was an absolutely terrible movie. Don't be lured in by Christopher Walken or Michael Ironside. Both are great actors, but this must simply be their worst role in history. Even their great acting could not redeem this movie's ridiculous storyline. This movie is an early nineties US propaganda piece. The most pathetic scenes were those when the Columbian rebels were making their cases for revolutions. Maria Conchita Alonso appeared phony, and her pseudo-love affair with Walken was nothing but a pathetic emotional plug in a movie that was devoid of any real meaning. I am disappointed that there are movies like this, ruining actor's like Christopher Walken's good name. I could barely sit through it.\">, <tf.Tensor: shape=(), dtype=int64, numpy=0>)\n",
      "(<tf.Tensor: shape=(), dtype=string, numpy=b'I have been known to fall asleep during films, but this is usually due to a combination of things including, really tired, being warm and comfortable on the sette and having just eaten a lot. However on this occasion I fell asleep because the film was rubbish. The plot development was constant. Constantly slow and boring. Things seemed to happen, but with no explanation of what was causing them or why. I admit, I may have missed part of the film, but i watched the majority of it and everything just seemed to happen of its own accord without any real concern for anything else. I cant recommend this film at all.'>, <tf.Tensor: shape=(), dtype=int64, numpy=0>)\n"
     ]
    },
    {
     "name": "stderr",
     "output_type": "stream",
     "text": [
      "2022-04-12 14:21:19.238747: W tensorflow/core/kernels/data/cache_dataset_ops.cc:757] The calling iterator did not fully read the dataset being cached. In order to avoid unexpected truncation of the dataset, the partially cached contents of the dataset will be discarded. This can happen if you have an input pipeline similar to `dataset.cache().take(k).repeat()`. You should use `dataset.take(k).cache().repeat()` instead.\n"
     ]
    }
   ],
   "source": [
    "for example in imdb['train'].take(2):\n",
    "    print(example)"
   ]
  },
  {
   "cell_type": "code",
   "execution_count": 15,
   "metadata": {},
   "outputs": [],
   "source": [
    "# Get the train and test sets\n",
    "train_data, test_data = imdb['train'], imdb['test']\n",
    "\n",
    "# Create sentense and labels lists\n",
    "training_sentences=[]\n",
    "training_labels=[]\n",
    "\n",
    "testing_sentences=[]\n",
    "testing_labels=[]\n",
    "\n",
    "# Loop over all training examples and save the sentences and labels\n",
    "for s, l in train_data:\n",
    "    training_sentences.append(s.numpy().decode('utf8'))\n",
    "    training_labels.append(l.numpy())\n",
    "\n",
    "# Loop over all test examples and save the sentences and labels\n",
    "for s, l in test_data:\n",
    "    testing_sentences.append(s.numpy().decode('utf8'))\n",
    "    testing_labels.append(l.numpy())\n",
    "\n",
    "# Convert labels lists to numpy array\n",
    "training_labels_final = np.array(training_labels)\n",
    "testing_labels_final = np.array(testing_labels)    "
   ]
  },
  {
   "cell_type": "markdown",
   "metadata": {},
   "source": [
    "## Generate Padded Sequences"
   ]
  },
  {
   "cell_type": "code",
   "execution_count": 14,
   "metadata": {},
   "outputs": [],
   "source": [
    "# Parameters\n",
    "\n",
    "vocab_size = 10000\n",
    "max_length = 120\n",
    "embeding_dim = 16\n",
    "trunc_type = 'post'\n",
    "oov_token = '<OOV>'"
   ]
  },
  {
   "cell_type": "code",
   "execution_count": 18,
   "metadata": {},
   "outputs": [],
   "source": [
    "from tensorflow.keras.preprocessing.text import Tokenizer\n",
    "from tensorflow.keras.preprocessing.sequence import pad_sequences\n",
    "\n",
    "# Initialize the Tokenizer class\n",
    "tokenizer = Tokenizer(num_words=vocab_size, oov_token=oov_token)\n",
    "\n",
    "# Generate the word index dictionary for the training sentences\n",
    "tokenizer.fit_on_texts(training_sentences)\n",
    "word_index = tokenizer.word_index\n",
    "\n",
    "# Generate and pad the training sequences\n",
    "sequences = tokenizer.texts_to_sequences(training_sentences)\n",
    "padded  = pad_sequences(sequences, maxlen=max_length, truncating=trunc_type)\n",
    "\n",
    "testing_sequences = tokenizer.texts_to_sequences(testing_sentences)\n",
    "testing_padded = pad_sequences(testing_sequences, maxlen=max_length)"
   ]
  },
  {
   "cell_type": "markdown",
   "metadata": {},
   "source": [
    "## Build and Compile the Model"
   ]
  },
  {
   "cell_type": "code",
   "execution_count": 20,
   "metadata": {},
   "outputs": [
    {
     "name": "stdout",
     "output_type": "stream",
     "text": [
      "Model: \"sequential\"\n",
      "_________________________________________________________________\n",
      "Layer (type)                 Output Shape              Param #   \n",
      "=================================================================\n",
      "embedding_1 (Embedding)      (None, 120, 16)           160000    \n",
      "_________________________________________________________________\n",
      "flatten (Flatten)            (None, 1920)              0         \n",
      "_________________________________________________________________\n",
      "dense (Dense)                (None, 6)                 11526     \n",
      "_________________________________________________________________\n",
      "dense_1 (Dense)              (None, 1)                 7         \n",
      "=================================================================\n",
      "Total params: 171,533\n",
      "Trainable params: 171,533\n",
      "Non-trainable params: 0\n",
      "_________________________________________________________________\n"
     ]
    }
   ],
   "source": [
    "import tensorflow as tf\n",
    "\n",
    "model = tf.keras.models.Sequential([\n",
    "    tf.keras.layers.Embedding(vocab_size, embeding_dim, input_length=max_length),\n",
    "    tf.keras.layers.Flatten(),\n",
    "    tf.keras.layers.Dense(6, activation='relu'),\n",
    "    tf.keras.layers.Dense(1, activation='sigmoid')\n",
    "])\n",
    "\n",
    "# Setup the training parameters\n",
    "model.compile(loss='binary_crossentropy', optimizer='adam', metrics=['accuracy'])\n",
    "\n",
    "# Print the model summary\n",
    "model.summary()"
   ]
  },
  {
   "cell_type": "markdown",
   "metadata": {},
   "source": [
    "## Train the Model"
   ]
  },
  {
   "cell_type": "code",
   "execution_count": 22,
   "metadata": {},
   "outputs": [
    {
     "name": "stdout",
     "output_type": "stream",
     "text": [
      "Epoch 1/10\n",
      "782/782 [==============================] - 3s 2ms/step - loss: 0.6059 - accuracy: 0.6351 - val_loss: 0.3888 - val_accuracy: 0.8235\n",
      "Epoch 2/10\n",
      "782/782 [==============================] - 2s 2ms/step - loss: 0.2506 - accuracy: 0.9048 - val_loss: 0.3770 - val_accuracy: 0.8374\n",
      "Epoch 3/10\n",
      "782/782 [==============================] - 2s 2ms/step - loss: 0.1020 - accuracy: 0.9753 - val_loss: 0.4622 - val_accuracy: 0.8255\n",
      "Epoch 4/10\n",
      "782/782 [==============================] - 2s 2ms/step - loss: 0.0247 - accuracy: 0.9976 - val_loss: 0.5382 - val_accuracy: 0.8223\n",
      "Epoch 5/10\n",
      "782/782 [==============================] - 2s 2ms/step - loss: 0.0095 - accuracy: 0.9990 - val_loss: 0.5788 - val_accuracy: 0.8276\n",
      "Epoch 6/10\n",
      "782/782 [==============================] - 2s 2ms/step - loss: 0.0032 - accuracy: 0.9998 - val_loss: 0.6405 - val_accuracy: 0.8272\n",
      "Epoch 7/10\n",
      "782/782 [==============================] - 2s 2ms/step - loss: 0.0010 - accuracy: 1.0000 - val_loss: 0.6922 - val_accuracy: 0.8272\n",
      "Epoch 8/10\n",
      "782/782 [==============================] - 2s 2ms/step - loss: 5.4179e-04 - accuracy: 1.0000 - val_loss: 0.7279 - val_accuracy: 0.8278\n",
      "Epoch 9/10\n",
      "782/782 [==============================] - 2s 2ms/step - loss: 3.0662e-04 - accuracy: 1.0000 - val_loss: 0.7667 - val_accuracy: 0.8281\n",
      "Epoch 10/10\n",
      "782/782 [==============================] - 2s 2ms/step - loss: 1.8595e-04 - accuracy: 1.0000 - val_loss: 0.8015 - val_accuracy: 0.8276\n"
     ]
    },
    {
     "data": {
      "text/plain": [
       "<tensorflow.python.keras.callbacks.History at 0x7fe6f3205050>"
      ]
     },
     "execution_count": 22,
     "metadata": {},
     "output_type": "execute_result"
    }
   ],
   "source": [
    "num_epochs = 10\n",
    "\n",
    "# Tarin the model\n",
    "model.fit(padded, training_labels_final, epochs=num_epochs, validation_data=(testing_padded, testing_labels_final))"
   ]
  },
  {
   "cell_type": "markdown",
   "metadata": {},
   "source": [
    "## Visualize Word Embeddings"
   ]
  },
  {
   "cell_type": "code",
   "execution_count": 32,
   "metadata": {},
   "outputs": [
    {
     "name": "stdout",
     "output_type": "stream",
     "text": [
      "(10000, 16)\n"
     ]
    }
   ],
   "source": [
    "# Get the embedding layer from the model\n",
    "embedding_layer = model.layers[0]\n",
    "\n",
    "# Get the weights of the embedding layer\n",
    "embedding_weights = embedding_layer.get_weights()[0]\n",
    "\n",
    "# Print the shape (vocab_size, embeding_dim)\n",
    "print(embedding_weights.shape)"
   ]
  },
  {
   "cell_type": "code",
   "execution_count": 33,
   "metadata": {},
   "outputs": [],
   "source": [
    "# Get the index_word dictionary\n",
    "\n",
    "reverse_word_index = tokenizer.index_word"
   ]
  },
  {
   "cell_type": "code",
   "execution_count": 34,
   "metadata": {},
   "outputs": [],
   "source": [
    "import io\n",
    "\n",
    "# Open writeable files\n",
    "out_v = io.open('vecs.tsv', 'w', encoding='utf-8')\n",
    "out_m = io.open('meta.tsv', 'w', encoding='utf-8')\n",
    "\n",
    "# Initialize the loop. Start counting at `1` because `0` is just for the padding\n",
    "for word_num in range(1, vocab_size):\n",
    "\n",
    "  # Get the word associated at the current index\n",
    "  word_name = reverse_word_index[word_num]\n",
    "\n",
    "  # Get the embedding weights associated with the current index\n",
    "  word_embedding = embedding_weights[word_num]\n",
    "\n",
    "  # Write the word name\n",
    "  out_m.write(word_name + \"\\n\")\n",
    "\n",
    "  # Write the word embedding\n",
    "  out_v.write('\\t'.join([str(x) for x in word_embedding]) + \"\\n\")\n",
    "\n",
    "# Close the files\n",
    "out_v.close()\n",
    "out_m.close()"
   ]
  },
  {
   "cell_type": "markdown",
   "metadata": {},
   "source": [
    "## Training a binary classifier with the Sarcasm Dataset"
   ]
  },
  {
   "cell_type": "code",
   "execution_count": 2,
   "metadata": {},
   "outputs": [
    {
     "name": "stdout",
     "output_type": "stream",
     "text": [
      "--2022-04-13 22:01:48--  https://storage.googleapis.com/tensorflow-1-public/course3/sarcasm.json\n",
      "Resolving storage.googleapis.com (storage.googleapis.com)... 2607:f8b0:400f:804::2010, 2607:f8b0:400f:803::2010, 2607:f8b0:400f:802::2010, ...\n",
      "Connecting to storage.googleapis.com (storage.googleapis.com)|2607:f8b0:400f:804::2010|:443... connected.\n",
      "HTTP request sent, awaiting response... 200 OK\n",
      "Length: 5643545 (5.4M) [application/json]\n",
      "Saving to: ‘sarcasm.json.1’\n",
      "\n",
      "sarcasm.json.1      100%[===================>]   5.38M  9.29MB/s    in 0.6s    \n",
      "\n",
      "2022-04-13 22:01:49 (9.29 MB/s) - ‘sarcasm.json.1’ saved [5643545/5643545]\n",
      "\n"
     ]
    }
   ],
   "source": [
    "# Download the dataset\n",
    "!wget https://storage.googleapis.com/tensorflow-1-public/course3/sarcasm.json"
   ]
  },
  {
   "cell_type": "code",
   "execution_count": 4,
   "metadata": {},
   "outputs": [],
   "source": [
    "import json\n",
    "import numpy as np\n",
    "import matplotlib.pyplot as plt\n",
    "import tensorflow as tf\n",
    "from tensorflow.keras.preprocessing.text import Tokenizer\n",
    "from tensorflow.keras.preprocessing.sequence import pad_sequences"
   ]
  },
  {
   "cell_type": "code",
   "execution_count": 16,
   "metadata": {},
   "outputs": [],
   "source": [
    "with open('./sarcasm.json', 'r') as f:\n",
    "    datastore = json.load(f)\n",
    "\n",
    "sentences = []\n",
    "labels = []\n",
    "\n",
    "for row in datastore:\n",
    "    sentences.append(row['headline'])\n",
    "    labels.append(row['is_sarcastic'])\n",
    "\n",
    "labels = np.array(labels)"
   ]
  },
  {
   "cell_type": "code",
   "execution_count": 59,
   "metadata": {},
   "outputs": [],
   "source": [
    "# Parameters\n",
    "vocab_size = 5000\n",
    "embedding_dim = 8\n",
    "max_length = 64\n",
    "trunc_type = 'post'\n",
    "padding_type = 'post'\n",
    "oov_token ='<OOV>'\n",
    "training_size = 20000"
   ]
  },
  {
   "cell_type": "code",
   "execution_count": 60,
   "metadata": {},
   "outputs": [],
   "source": [
    "training_sentences = sentences[0:training_size]\n",
    "training_labels = labels[0:training_size]\n",
    "\n",
    "testing_sentences = sentences[20000:]\n",
    "testing_labels = labels[20000:]"
   ]
  },
  {
   "cell_type": "code",
   "execution_count": 61,
   "metadata": {},
   "outputs": [],
   "source": [
    "tokenizer = Tokenizer(num_words=vocab_size, oov_token=oov_token)\n",
    "tokenizer.fit_on_texts(training_sentences)\n",
    "\n",
    "word_index = tokenizer.word_index\n",
    "\n",
    "training_sequences = tokenizer.texts_to_sequences(training_sentences)\n",
    "training_padded = pad_sequences(training_sequences, maxlen=max_length, padding=padding_type, truncating=trunc_type)\n",
    "\n",
    "testing_sequences = tokenizer.texts_to_sequences(testing_sentences)\n",
    "testing_padded = pad_sequences(testing_sequences, maxlen=max_length, padding=padding_type, truncating=trunc_type)"
   ]
  },
  {
   "cell_type": "code",
   "execution_count": 62,
   "metadata": {},
   "outputs": [
    {
     "name": "stdout",
     "output_type": "stream",
     "text": [
      "Model: \"sequential_12\"\n",
      "_________________________________________________________________\n",
      "Layer (type)                 Output Shape              Param #   \n",
      "=================================================================\n",
      "embedding_12 (Embedding)     (None, 64, 8)             40000     \n",
      "_________________________________________________________________\n",
      "global_average_pooling1d_12  (None, 8)                 0         \n",
      "_________________________________________________________________\n",
      "dense_24 (Dense)             (None, 24)                216       \n",
      "_________________________________________________________________\n",
      "dense_25 (Dense)             (None, 1)                 25        \n",
      "=================================================================\n",
      "Total params: 40,241\n",
      "Trainable params: 40,241\n",
      "Non-trainable params: 0\n",
      "_________________________________________________________________\n"
     ]
    }
   ],
   "source": [
    "model = tf.keras.models.Sequential([\n",
    "    tf.keras.layers.Embedding(vocab_size, embedding_dim, input_length=max_length),\n",
    "    tf.keras.layers.GlobalAveragePooling1D(),\n",
    "    tf.keras.layers.Dense(24, activation='relu'),\n",
    "    tf.keras.layers.Dense(1, activation='sigmoid')\n",
    "])\n",
    "model.compile(loss='binary_crossentropy', optimizer='adam', metrics=['accuracy'])\n",
    "model.summary()"
   ]
  },
  {
   "cell_type": "code",
   "execution_count": 63,
   "metadata": {},
   "outputs": [
    {
     "name": "stdout",
     "output_type": "stream",
     "text": [
      "Epoch 1/30\n",
      "625/625 - 1s - loss: 0.6517 - accuracy: 0.6102 - val_loss: 0.5319 - val_accuracy: 0.7918\n",
      "Epoch 2/30\n",
      "625/625 - 0s - loss: 0.4066 - accuracy: 0.8356 - val_loss: 0.3785 - val_accuracy: 0.8404\n",
      "Epoch 3/30\n",
      "625/625 - 0s - loss: 0.3165 - accuracy: 0.8681 - val_loss: 0.3631 - val_accuracy: 0.8427\n",
      "Epoch 4/30\n",
      "625/625 - 0s - loss: 0.2767 - accuracy: 0.8868 - val_loss: 0.3554 - val_accuracy: 0.8447\n",
      "Epoch 5/30\n",
      "625/625 - 0s - loss: 0.2500 - accuracy: 0.8974 - val_loss: 0.3557 - val_accuracy: 0.8463\n",
      "Epoch 6/30\n",
      "625/625 - 0s - loss: 0.2323 - accuracy: 0.9057 - val_loss: 0.3662 - val_accuracy: 0.8456\n",
      "Epoch 7/30\n",
      "625/625 - 0s - loss: 0.2179 - accuracy: 0.9121 - val_loss: 0.3788 - val_accuracy: 0.8438\n",
      "Epoch 8/30\n",
      "625/625 - 0s - loss: 0.2065 - accuracy: 0.9157 - val_loss: 0.3922 - val_accuracy: 0.8429\n",
      "Epoch 9/30\n",
      "625/625 - 0s - loss: 0.1981 - accuracy: 0.9209 - val_loss: 0.4045 - val_accuracy: 0.8413\n",
      "Epoch 10/30\n",
      "625/625 - 0s - loss: 0.1905 - accuracy: 0.9255 - val_loss: 0.4236 - val_accuracy: 0.8383\n",
      "Epoch 11/30\n",
      "625/625 - 0s - loss: 0.1823 - accuracy: 0.9276 - val_loss: 0.4359 - val_accuracy: 0.8360\n",
      "Epoch 12/30\n",
      "625/625 - 1s - loss: 0.1768 - accuracy: 0.9307 - val_loss: 0.4494 - val_accuracy: 0.8351\n",
      "Epoch 13/30\n",
      "625/625 - 0s - loss: 0.1723 - accuracy: 0.9319 - val_loss: 0.4628 - val_accuracy: 0.8348\n",
      "Epoch 14/30\n",
      "625/625 - 1s - loss: 0.1669 - accuracy: 0.9338 - val_loss: 0.4815 - val_accuracy: 0.8296\n",
      "Epoch 15/30\n",
      "625/625 - 0s - loss: 0.1633 - accuracy: 0.9371 - val_loss: 0.4966 - val_accuracy: 0.8267\n",
      "Epoch 16/30\n",
      "625/625 - 1s - loss: 0.1597 - accuracy: 0.9383 - val_loss: 0.5007 - val_accuracy: 0.8295\n",
      "Epoch 17/30\n",
      "625/625 - 0s - loss: 0.1564 - accuracy: 0.9406 - val_loss: 0.5121 - val_accuracy: 0.8281\n",
      "Epoch 18/30\n",
      "625/625 - 0s - loss: 0.1535 - accuracy: 0.9436 - val_loss: 0.5436 - val_accuracy: 0.8211\n",
      "Epoch 19/30\n",
      "625/625 - 0s - loss: 0.1502 - accuracy: 0.9430 - val_loss: 0.5462 - val_accuracy: 0.8201\n",
      "Epoch 20/30\n",
      "625/625 - 0s - loss: 0.1482 - accuracy: 0.9457 - val_loss: 0.5486 - val_accuracy: 0.8261\n",
      "Epoch 21/30\n",
      "625/625 - 0s - loss: 0.1464 - accuracy: 0.9451 - val_loss: 0.5642 - val_accuracy: 0.8240\n",
      "Epoch 22/30\n",
      "625/625 - 0s - loss: 0.1435 - accuracy: 0.9473 - val_loss: 0.5855 - val_accuracy: 0.8173\n",
      "Epoch 23/30\n",
      "625/625 - 0s - loss: 0.1406 - accuracy: 0.9492 - val_loss: 0.5838 - val_accuracy: 0.8205\n",
      "Epoch 24/30\n",
      "625/625 - 0s - loss: 0.1379 - accuracy: 0.9505 - val_loss: 0.5989 - val_accuracy: 0.8220\n",
      "Epoch 25/30\n",
      "625/625 - 0s - loss: 0.1354 - accuracy: 0.9517 - val_loss: 0.6094 - val_accuracy: 0.8208\n",
      "Epoch 26/30\n",
      "625/625 - 0s - loss: 0.1349 - accuracy: 0.9504 - val_loss: 0.6219 - val_accuracy: 0.8193\n",
      "Epoch 27/30\n",
      "625/625 - 0s - loss: 0.1330 - accuracy: 0.9528 - val_loss: 0.6396 - val_accuracy: 0.8185\n",
      "Epoch 28/30\n",
      "625/625 - 0s - loss: 0.1309 - accuracy: 0.9546 - val_loss: 0.6396 - val_accuracy: 0.8176\n",
      "Epoch 29/30\n",
      "625/625 - 0s - loss: 0.1296 - accuracy: 0.9542 - val_loss: 0.6550 - val_accuracy: 0.8177\n",
      "Epoch 30/30\n",
      "625/625 - 0s - loss: 0.1268 - accuracy: 0.9571 - val_loss: 0.6795 - val_accuracy: 0.8153\n"
     ]
    }
   ],
   "source": [
    "num_epochs = 30\n",
    "\n",
    "history = model.fit(training_padded, training_labels, epochs=num_epochs, \n",
    "                    validation_data=(testing_padded, testing_labels), verbose=2)"
   ]
  },
  {
   "cell_type": "code",
   "execution_count": 64,
   "metadata": {},
   "outputs": [
    {
     "data": {
      "image/png": "[encoded data removed]",
      "text/plain": [
       "<Figure size 432x288 with 1 Axes>"
      ]
     },
     "metadata": {
      "needs_background": "light"
     },
     "output_type": "display_data"
    },
    {
     "data": {
      "image/png": "[encoded data removed]",
      "text/plain": [
       "<Figure size 432x288 with 1 Axes>"
      ]
     },
     "metadata": {
      "needs_background": "light"
     },
     "output_type": "display_data"
    }
   ],
   "source": [
    "def plot_graphs(history, string):\n",
    "    plt.plot(history.history[string])\n",
    "    plt.plot(history.history['val_'+string])\n",
    "    plt.xlabel(\"Epochs\")\n",
    "    plt.ylabel(\"string\")\n",
    "    plt.legend([string, \"val_\"+string])\n",
    "    plt.show()\n",
    "\n",
    "plot_graphs(history, 'accuracy')\n",
    "plot_graphs(history, 'loss')"
   ]
  },
  {
   "cell_type": "markdown",
   "metadata": {},
   "source": [
    "## Single Layer LSTM"
   ]
  },
  {
   "cell_type": "code",
   "execution_count": 1,
   "metadata": {},
   "outputs": [],
   "source": [
    "import numpy as np"
   ]
  },
  {
   "cell_type": "code",
   "execution_count": 2,
   "metadata": {},
   "outputs": [
    {
     "name": "stderr",
     "output_type": "stream",
     "text": [
      "WARNING:absl:TFDS datasets with text encoding are deprecated and will be removed in a future version. Instead, you should use the plain text version and tokenize the text using `tensorflow_text` (See: https://www.tensorflow.org/tutorials/tensorflow_text/intro#tfdata_example)\n",
      "2022-04-14 10:47:39.728120: I tensorflow/core/platform/cpu_feature_guard.cc:151] This TensorFlow binary is optimized with oneAPI Deep Neural Network Library (oneDNN) to use the following CPU instructions in performance-critical operations:  AVX2 FMA\n",
      "To enable them in other operations, rebuild TensorFlow with the appropriate compiler flags.\n"
     ]
    }
   ],
   "source": [
    "import tensorflow_datasets as tfds\n",
    "\n",
    "# Download the subword encoded pretokenized dataset\n",
    "dataset, info = tfds.load('imdb_reviews/subwords8k', with_info=True, as_supervised=True)\n",
    "\n",
    "# Get the tokenizer\n",
    "tokenizer = info.features['text'].encoder"
   ]
  },
  {
   "cell_type": "code",
   "execution_count": 3,
   "metadata": {},
   "outputs": [],
   "source": [
    "BUFFER_SIZE = 10000\n",
    "BATCH_SIZE =256\n",
    "\n",
    "# Get the train and test split\n",
    "train_data, test_data = dataset['train'], dataset['test'],\n",
    "\n",
    "# Shuffle the training data\n",
    "train_dataset = train_data.shuffle(BUFFER_SIZE)\n",
    "\n",
    "# Batch and pad the datasets to the maximum length of the sequeces\n",
    "train_dataset = train_dataset.padded_batch(BATCH_SIZE)\n",
    "test_dataset = test_data.padded_batch(BATCH_SIZE)"
   ]
  },
  {
   "cell_type": "code",
   "execution_count": 4,
   "metadata": {},
   "outputs": [
    {
     "name": "stdout",
     "output_type": "stream",
     "text": [
      "Model: \"sequential\"\n",
      "_________________________________________________________________\n",
      " Layer (type)                Output Shape              Param #   \n",
      "=================================================================\n",
      " embedding (Embedding)       (None, None, 64)          523840    \n",
      "                                                                 \n",
      " bidirectional (Bidirectiona  (None, 128)              66048     \n",
      " l)                                                              \n",
      "                                                                 \n",
      " dense (Dense)               (None, 64)                8256      \n",
      "                                                                 \n",
      " dense_1 (Dense)             (None, 1)                 65        \n",
      "                                                                 \n",
      "=================================================================\n",
      "Total params: 598,209\n",
      "Trainable params: 598,209\n",
      "Non-trainable params: 0\n",
      "_________________________________________________________________\n"
     ]
    }
   ],
   "source": [
    "import tensorflow as tf\n",
    "\n",
    "# Hyperparametes\n",
    "embedding_dim = 64\n",
    "lstm_dim = 64\n",
    "dense_dim = 64\n",
    "\n",
    "# Build the model\n",
    "model = tf.keras.Sequential([\n",
    "    tf.keras.layers.Embedding(tokenizer.vocab_size, embedding_dim),\n",
    "    tf.keras.layers.Bidirectional(tf.keras.layers.LSTM(lstm_dim)),\n",
    "    tf.keras.layers.Dense(dense_dim, activation='relu'),\n",
    "    tf.keras.layers.Dense(1, activation='sigmoid')\n",
    "])\n",
    "\n",
    "# Print the model summary\n",
    "model.summary()"
   ]
  },
  {
   "cell_type": "code",
   "execution_count": 5,
   "metadata": {},
   "outputs": [],
   "source": [
    "model.compile(loss='binary_crossentropy', optimizer='adam', metrics=['accuracy'])"
   ]
  },
  {
   "cell_type": "code",
   "execution_count": 6,
   "metadata": {},
   "outputs": [
    {
     "name": "stdout",
     "output_type": "stream",
     "text": [
      "Epoch 1/10\n",
      "98/98 [==============================] - 519s 5s/step - loss: 0.5511 - accuracy: 0.7099 - val_loss: 0.4298 - val_accuracy: 0.8126\n",
      "Epoch 2/10\n",
      "98/98 [==============================] - 495s 5s/step - loss: 0.3108 - accuracy: 0.8765 - val_loss: 0.3546 - val_accuracy: 0.8629\n",
      "Epoch 3/10\n",
      "98/98 [==============================] - 454s 5s/step - loss: 0.2966 - accuracy: 0.8930 - val_loss: 0.3669 - val_accuracy: 0.8442\n",
      "Epoch 4/10\n",
      "98/98 [==============================] - 447s 5s/step - loss: 0.1956 - accuracy: 0.9313 - val_loss: 0.3906 - val_accuracy: 0.8452\n",
      "Epoch 5/10\n",
      "98/98 [==============================] - 458s 5s/step - loss: 0.1615 - accuracy: 0.9446 - val_loss: 0.4120 - val_accuracy: 0.8433\n",
      "Epoch 6/10\n",
      "98/98 [==============================] - 498s 5s/step - loss: 0.1275 - accuracy: 0.9575 - val_loss: 0.4748 - val_accuracy: 0.8529\n",
      "Epoch 7/10\n",
      "98/98 [==============================] - 501s 5s/step - loss: 0.2025 - accuracy: 0.9264 - val_loss: 0.4725 - val_accuracy: 0.8302\n",
      "Epoch 8/10\n",
      "98/98 [==============================] - 451s 5s/step - loss: 0.1388 - accuracy: 0.9510 - val_loss: 0.5112 - val_accuracy: 0.8412\n",
      "Epoch 9/10\n",
      "98/98 [==============================] - 4499s 46s/step - loss: 0.1060 - accuracy: 0.9655 - val_loss: 0.5461 - val_accuracy: 0.8396\n",
      "Epoch 10/10\n",
      "98/98 [==============================] - 3931s 40s/step - loss: 0.0889 - accuracy: 0.9720 - val_loss: 0.5782 - val_accuracy: 0.8069\n"
     ]
    }
   ],
   "source": [
    "num_epochs = 10\n",
    "history = model.fit(train_dataset, epochs=num_epochs, validation_data=test_dataset)"
   ]
  },
  {
   "cell_type": "code",
   "execution_count": 7,
   "metadata": {},
   "outputs": [
    {
     "data": {
      "image/png": "[encoded data removed]",
      "text/plain": [
       "<Figure size 432x288 with 1 Axes>"
      ]
     },
     "metadata": {
      "needs_background": "light"
     },
     "output_type": "display_data"
    },
    {
     "data": {
      "image/png": "[encoded data removed]",
      "text/plain": [
       "<Figure size 432x288 with 1 Axes>"
      ]
     },
     "metadata": {
      "needs_background": "light"
     },
     "output_type": "display_data"
    }
   ],
   "source": [
    "import matplotlib.pyplot as plt\n",
    "\n",
    "# Plot utility\n",
    "def plot_graphs(history, string):\n",
    "  plt.plot(history.history[string])\n",
    "  plt.plot(history.history['val_'+string])\n",
    "  plt.xlabel(\"Epochs\")\n",
    "  \n",
    "  plt.ylabel(string)\n",
    "  plt.legend([string, 'val_'+string])\n",
    "  plt.show()\n",
    "\n",
    "# Plot the accuracy and results \n",
    "plot_graphs(history, \"accuracy\")\n",
    "plot_graphs(history, \"loss\")"
   ]
  },
  {
   "cell_type": "code",
   "execution_count": null,
   "metadata": {},
   "outputs": [],
   "source": []
  }
 ],
 "metadata": {
  "interpreter": {
   "hash": "f3191fe16ac2b04b2b68be3cfbf9890188e5b4492c7aa22c6d5887c51209e689"
  },
  "kernelspec": {
   "display_name": "Python 3.7.6 ('DataScience')",
   "language": "python",
   "name": "python3"
  },
  "language_info": {
   "codemirror_mode": {
    "name": "ipython",
    "version": 3
   },
   "file_extension": ".py",
   "mimetype": "text/x-python",
   "name": "python",
   "nbconvert_exporter": "python",
   "pygments_lexer": "ipython3",
   "version": "3.7.6"
  },
  "orig_nbformat": 4
 },
 "nbformat": 4,
 "nbformat_minor": 2
}
