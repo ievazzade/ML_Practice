{
 "cells": [
  {
   "cell_type": "code",
   "execution_count": 1,
   "metadata": {},
   "outputs": [],
   "source": [
    "import numpy as np\n",
    "from numpy.linalg import inv, det, matrix_rank\n",
    "from sklearn.metrics import mean_squared_error, r2_score"
   ]
  },
  {
   "cell_type": "code",
   "execution_count": 10,
   "metadata": {},
   "outputs": [
    {
     "name": "stdout",
     "output_type": "stream",
     "text": [
      "x:\n",
      " [[ 1]\n",
      " [ 5]\n",
      " [10]]\n",
      "w:\n",
      " [[5]\n",
      " [6]\n",
      " [1]]\n",
      "\n",
      "Dot product:  [[45]]\n"
     ]
    }
   ],
   "source": [
    "x = np.array([1,5,10]).reshape(-1,1)\n",
    "w = np.array([5,6,1]).reshape(-1,1)\n",
    "print(\"x:\\n\", x)\n",
    "print(\"w:\\n\", w)\n",
    "\n",
    "y1 = x.T.dot(w)\n",
    "print(\"\\nDot product: \", y1)"
   ]
  },
  {
   "cell_type": "code",
   "execution_count": 14,
   "metadata": {},
   "outputs": [
    {
     "name": "stdout",
     "output_type": "stream",
     "text": [
      "Dot Product x.w:  45\n",
      "Dot product w.x:  45\n"
     ]
    }
   ],
   "source": [
    "x = np.array([1,5,10])\n",
    "w = np.array([5,6,1])\n",
    "\n",
    "print(\"Dot Product x.w: \", x.dot(w))\n",
    "print(\"Dot product w.x: \", w.dot(x) )"
   ]
  },
  {
   "cell_type": "code",
   "execution_count": null,
   "metadata": {},
   "outputs": [],
   "source": []
  }
 ],
 "metadata": {
  "interpreter": {
   "hash": "7c2ff857100bde34f48f5e0e98e176447aec4667c4de751b477b7367cfbdc006"
  },
  "kernelspec": {
   "display_name": "Python 3.6.12 ('mdanalysis')",
   "language": "python",
   "name": "python3"
  },
  "language_info": {
   "codemirror_mode": {
    "name": "ipython",
    "version": 3
   },
   "file_extension": ".py",
   "mimetype": "text/x-python",
   "name": "python",
   "nbconvert_exporter": "python",
   "pygments_lexer": "ipython3",
   "version": "3.6.12"
  },
  "orig_nbformat": 4
 },
 "nbformat": 4,
 "nbformat_minor": 2
}
