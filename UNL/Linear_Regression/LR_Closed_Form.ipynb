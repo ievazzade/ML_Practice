{
 "cells": [
  {
   "cell_type": "code",
   "execution_count": 1,
   "metadata": {},
   "outputs": [],
   "source": [
    "import numpy as np\n",
    "from numpy.linalg import inv, det, matrix_rank\n",
    "from sklearn.metrics import mean_squared_error, r2_score"
   ]
  },
  {
   "cell_type": "code",
   "execution_count": 10,
   "metadata": {},
   "outputs": [
    {
     "name": "stdout",
     "output_type": "stream",
     "text": [
      "x:\n",
      " [[ 1]\n",
      " [ 5]\n",
      " [10]]\n",
      "w:\n",
      " [[5]\n",
      " [6]\n",
      " [1]]\n",
      "\n",
      "Dot product:  [[45]]\n"
     ]
    }
   ],
   "source": [
    "x = np.array([1,5,10]).reshape(-1,1)\n",
    "w = np.array([5,6,1]).reshape(-1,1)\n",
    "print(\"x:\\n\", x)\n",
    "print(\"w:\\n\", w)\n",
    "\n",
    "y1 = x.T.dot(w)\n",
    "print(\"\\nDot product: \", y1)"
   ]
  },
  {
   "cell_type": "code",
   "execution_count": 14,
   "metadata": {},
   "outputs": [
    {
     "name": "stdout",
     "output_type": "stream",
     "text": [
      "Dot Product x.w:  45\n",
      "Dot product w.x:  45\n"
     ]
    }
   ],
   "source": [
    "x = np.array([1,5,10])\n",
    "w = np.array([5,6,1])\n",
    "\n",
    "print(\"Dot Product x.w: \", x.dot(w))\n",
    "print(\"Dot product w.x: \", w.dot(x) )"
   ]
  },
  {
   "cell_type": "code",
   "execution_count": 15,
   "metadata": {},
   "outputs": [
    {
     "name": "stdout",
     "output_type": "stream",
     "text": [
      "y:  [45 38 36 23]\n"
     ]
    }
   ],
   "source": [
    "w = np.array([5,6,1])\n",
    "X = np.array([[1,5,10],\n",
    "              [1,4,9],\n",
    "              [1,3,13],\n",
    "              [1,2,6]\n",
    "              ])\n",
    "\n",
    "y = X.dot(w)\n",
    "print(\"y: \", y)"
   ]
  },
  {
   "cell_type": "markdown",
   "metadata": {},
   "source": [
    "## Linear Regression: Square data matrix"
   ]
  },
  {
   "cell_type": "code",
   "execution_count": 41,
   "metadata": {},
   "outputs": [
    {
     "name": "stdout",
     "output_type": "stream",
     "text": [
      "X: \n",
      " [[13 22 35]\n",
      " [17 13  9]\n",
      " [ 7  3 12]\n",
      " [ 1 31  1]]\n",
      "y: \n",
      " [[22]\n",
      " [34]\n",
      " [45]\n",
      " [67]]\n",
      "\n",
      "Calculated w: \n",
      " [[63.96483756]\n",
      " [-1.49554279]\n",
      " [ 0.1703645 ]\n",
      " [-0.75059429]]\n",
      "\n",
      " ----------------Model Evaluation---------------------\n",
      "Mean Squared Error: 0.00\n",
      "Coefficient of Determination r^2 variance score: 1\n"
     ]
    }
   ],
   "source": [
    "# Linear Regression: Square data matrix\n",
    "X = np.array([[13, 22, 35],\n",
    "              [17,13,9],\n",
    "              [7, 3, 12],\n",
    "              [1, 31, 1]\n",
    "              ])\n",
    "\n",
    "X_bias = np.c_[np.ones((X.shape[0], 1)), X]\n",
    "\n",
    "y = np.array([22, 34, 45, 67]).reshape(-1,1)\n",
    "\n",
    "w =np.linalg.inv(X_bias).dot(y)\n",
    "\n",
    "print(\"X: \\n\", X)\n",
    "print(\"y: \\n\", y)\n",
    "\n",
    "print(\"\\nCalculated w: \\n\",w)\n",
    "\n",
    "print(\"\\n ----------------Model Evaluation---------------------\")\n",
    "y_predicred = X_bias.dot(w)\n",
    "\n",
    "print(\"Mean Squared Error: %.2f\"%mean_squared_error(y, y_predicred))\n",
    "print(\"Coefficient of Determination r^2 variance score: %.f\"%r2_score(y, y_predicred))"
   ]
  },
  {
   "cell_type": "markdown",
   "metadata": {},
   "source": [
    "## Data Matrix X is Non-Square"
   ]
  },
  {
   "cell_type": "code",
   "execution_count": 53,
   "metadata": {},
   "outputs": [
    {
     "name": "stdout",
     "output_type": "stream",
     "text": [
      "Rank of X: 2\n",
      "\n",
      "Rank of X_bias:  2\n",
      "\n",
      "Rank of z:  2\n",
      "\n",
      "Weight vector: \n",
      " [[ 1.3400000e+02]\n",
      " [ 6.2500000e-02]\n",
      " [-4.1640625e+00]\n",
      " [ 5.9375000e-01]]\n",
      "\n",
      " ----------------Model Evaluation---------------------\n",
      "Mean Squared Error: 2247.60\n",
      "Coefficient of Determination r^2 variance score: -61\n"
     ]
    }
   ],
   "source": [
    "# Non-Square X: No collinearity\n",
    "\n",
    "X = np.array([[13, 22, 35],\n",
    "              [17, 13, 9]\n",
    "              ])\n",
    "\n",
    "y = np.array([22, 34]).reshape(-1,1)\n",
    "\n",
    "print(\"Rank of X:\", matrix_rank(X))\n",
    "\n",
    "X_bias = np.c_[np.ones((X.shape[0],1)), X]\n",
    "\n",
    "print(\"\\nRank of X_bias: \", matrix_rank(X_bias))\n",
    "\n",
    "z = X_bias.T.dot(X_bias)\n",
    "\n",
    "print(\"\\nRank of z: \", matrix_rank(z))\n",
    "\n",
    "w = np.linalg.inv(z).dot(X_bias.T).dot(y)\n",
    "print(\"\\nWeight vector: \\n\", w)\n",
    "\n",
    "\n",
    "print(\"\\n ----------------Model Evaluation---------------------\")\n",
    "y_predicred = X_bias.dot(w)\n",
    "\n",
    "print(\"Mean Squared Error: %.2f\"%mean_squared_error(y, y_predicred))\n",
    "print(\"Coefficient of Determination r^2 variance score: %.f\"%r2_score(y, y_predicred))\n"
   ]
  },
  {
   "cell_type": "markdown",
   "metadata": {},
   "source": []
  }
 ],
 "metadata": {
  "interpreter": {
   "hash": "7c2ff857100bde34f48f5e0e98e176447aec4667c4de751b477b7367cfbdc006"
  },
  "kernelspec": {
   "display_name": "Python 3.6.12 ('mdanalysis')",
   "language": "python",
   "name": "python3"
  },
  "language_info": {
   "codemirror_mode": {
    "name": "ipython",
    "version": 3
   },
   "file_extension": ".py",
   "mimetype": "text/x-python",
   "name": "python",
   "nbconvert_exporter": "python",
   "pygments_lexer": "ipython3",
   "version": "3.6.12"
  },
  "orig_nbformat": 4
 },
 "nbformat": 4,
 "nbformat_minor": 2
}
