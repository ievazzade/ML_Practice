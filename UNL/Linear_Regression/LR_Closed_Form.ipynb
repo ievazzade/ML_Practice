{
 "cells": [
  {
   "cell_type": "code",
   "execution_count": 1,
   "metadata": {},
   "outputs": [],
   "source": [
    "import numpy as np\n",
    "from numpy.linalg import inv, det, matrix_rank\n",
    "from sklearn.metrics import mean_squared_error, r2_score"
   ]
  },
  {
   "cell_type": "code",
   "execution_count": 2,
   "metadata": {},
   "outputs": [
    {
     "name": "stdout",
     "output_type": "stream",
     "text": [
      "x:\n",
      " [[ 1]\n",
      " [ 5]\n",
      " [10]]\n",
      "w:\n",
      " [[5]\n",
      " [6]\n",
      " [1]]\n",
      "\n",
      "Dot product:  [[45]]\n"
     ]
    }
   ],
   "source": [
    "x = np.array([1,5,10]).reshape(-1,1)\n",
    "w = np.array([5,6,1]).reshape(-1,1)\n",
    "print(\"x:\\n\", x)\n",
    "print(\"w:\\n\", w)\n",
    "\n",
    "y1 = x.T.dot(w)\n",
    "print(\"\\nDot product: \", y1)"
   ]
  },
  {
   "cell_type": "code",
   "execution_count": 3,
   "metadata": {},
   "outputs": [
    {
     "name": "stdout",
     "output_type": "stream",
     "text": [
      "Dot Product x.w:  45\n",
      "Dot product w.x:  45\n"
     ]
    }
   ],
   "source": [
    "x = np.array([1,5,10])\n",
    "w = np.array([5,6,1])\n",
    "\n",
    "print(\"Dot Product x.w: \", x.dot(w))\n",
    "print(\"Dot product w.x: \", w.dot(x) )"
   ]
  },
  {
   "cell_type": "code",
   "execution_count": 4,
   "metadata": {},
   "outputs": [
    {
     "name": "stdout",
     "output_type": "stream",
     "text": [
      "y:  [45 38 36 23]\n"
     ]
    }
   ],
   "source": [
    "w = np.array([5,6,1])\n",
    "X = np.array([[1,5,10],\n",
    "              [1,4,9],\n",
    "              [1,3,13],\n",
    "              [1,2,6]\n",
    "              ])\n",
    "\n",
    "y = X.dot(w)\n",
    "print(\"y: \", y)"
   ]
  },
  {
   "cell_type": "markdown",
   "metadata": {},
   "source": [
    "## Linear Regression: Square data matrix"
   ]
  },
  {
   "cell_type": "code",
   "execution_count": 5,
   "metadata": {},
   "outputs": [
    {
     "name": "stdout",
     "output_type": "stream",
     "text": [
      "X: \n",
      " [[13 22 35]\n",
      " [17 13  9]\n",
      " [ 7  3 12]\n",
      " [ 1 31  1]]\n",
      "y: \n",
      " [[22]\n",
      " [34]\n",
      " [45]\n",
      " [67]]\n",
      "\n",
      "Calculated w: \n",
      " [[63.96483756]\n",
      " [-1.49554279]\n",
      " [ 0.1703645 ]\n",
      " [-0.75059429]]\n",
      "\n",
      " ----------------Model Evaluation---------------------\n",
      "Mean Squared Error: 0.00\n",
      "Coefficient of Determination r^2 variance score: 1\n"
     ]
    }
   ],
   "source": [
    "# Linear Regression: Square data matrix\n",
    "X = np.array([[13, 22, 35],\n",
    "              [17,13,9],\n",
    "              [7, 3, 12],\n",
    "              [1, 31, 1]\n",
    "              ])\n",
    "\n",
    "X_bias = np.c_[np.ones((X.shape[0], 1)), X]\n",
    "\n",
    "y = np.array([22, 34, 45, 67]).reshape(-1,1)\n",
    "\n",
    "w =np.linalg.inv(X_bias).dot(y)\n",
    "\n",
    "print(\"X: \\n\", X)\n",
    "print(\"y: \\n\", y)\n",
    "\n",
    "print(\"\\nCalculated w: \\n\",w)\n",
    "\n",
    "print(\"\\n ----------------Model Evaluation---------------------\")\n",
    "y_predicred = X_bias.dot(w)\n",
    "\n",
    "print(\"Mean Squared Error: %.2f\"%mean_squared_error(y, y_predicred))\n",
    "print(\"Coefficient of Determination r^2 variance score: %.f\"%r2_score(y, y_predicred))"
   ]
  },
  {
   "cell_type": "markdown",
   "metadata": {},
   "source": [
    "## Data Matrix X is Non-Square"
   ]
  },
  {
   "cell_type": "code",
   "execution_count": 6,
   "metadata": {},
   "outputs": [
    {
     "name": "stdout",
     "output_type": "stream",
     "text": [
      "Rank of X: 2\n",
      "\n",
      "Rank of X_bias:  2\n",
      "\n",
      "Rank of z:  2\n",
      "\n",
      "Weight vector: \n",
      " [[ 1.3400000e+02]\n",
      " [ 6.2500000e-02]\n",
      " [-4.1640625e+00]\n",
      " [ 5.9375000e-01]]\n",
      "\n",
      " ----------------Model Evaluation---------------------\n",
      "Mean Squared Error: 2247.60\n",
      "Coefficient of Determination r^2 variance score: -61\n"
     ]
    }
   ],
   "source": [
    "# Non-Square X: No collinearity\n",
    "\n",
    "X = np.array([[13, 22, 35],\n",
    "              [17, 13, 9]\n",
    "              ])\n",
    "\n",
    "y = np.array([22, 34]).reshape(-1,1)\n",
    "\n",
    "print(\"Rank of X:\", matrix_rank(X))\n",
    "\n",
    "X_bias = np.c_[np.ones((X.shape[0],1)), X]\n",
    "\n",
    "print(\"\\nRank of X_bias: \", matrix_rank(X_bias))\n",
    "\n",
    "z = X_bias.T.dot(X_bias)\n",
    "\n",
    "print(\"\\nRank of z: \", matrix_rank(z))\n",
    "\n",
    "w = np.linalg.inv(z).dot(X_bias.T).dot(y)\n",
    "print(\"\\nWeight vector: \\n\", w)\n",
    "\n",
    "\n",
    "print(\"\\n ----------------Model Evaluation---------------------\")\n",
    "y_predicred = X_bias.dot(w)\n",
    "\n",
    "print(\"Mean Squared Error: %.2f\"%mean_squared_error(y, y_predicred))\n",
    "print(\"Coefficient of Determination r^2 variance score: %.f\"%r2_score(y, y_predicred))\n"
   ]
  },
  {
   "cell_type": "markdown",
   "metadata": {},
   "source": [
    "## Non-Square X with Collinearity"
   ]
  },
  {
   "cell_type": "code",
   "execution_count": 25,
   "metadata": {},
   "outputs": [
    {
     "name": "stdout",
     "output_type": "stream",
     "text": [
      "Rank of X:  2\n",
      "Rank of Z: 2\n",
      "[[ 50 100  80  88]\n",
      " [100 200 160 176]\n",
      " [ 80 160 130 144]\n",
      " [ 88 176 144 160]]\n",
      "Determinant of Z (X^T.X):  0.0\n",
      "\n",
      "Eigenvalues of Z: \n",
      " [ 5.36563313e+02  3.43668670e+00 -2.40578862e-14 -1.15269744e-14]\n",
      "\n",
      "Number of zero/negative eigenvalues:  2\n"
     ]
    },
    {
     "ename": "LinAlgError",
     "evalue": "Singular matrix",
     "output_type": "error",
     "traceback": [
      "\u001b[0;31m---------------------------------------------------------------------------\u001b[0m",
      "\u001b[0;31mLinAlgError\u001b[0m                               Traceback (most recent call last)",
      "\u001b[0;32m<ipython-input-25-eb0d1e32365c>\u001b[0m in \u001b[0;36m<module>\u001b[0;34m\u001b[0m\n\u001b[1;32m     20\u001b[0m \u001b[0;34m\u001b[0m\u001b[0m\n\u001b[1;32m     21\u001b[0m \u001b[0mprint\u001b[0m\u001b[0;34m(\u001b[0m\u001b[0;34m\"\\nNumber of zero/negative eigenvalues: \"\u001b[0m\u001b[0;34m,\u001b[0m \u001b[0mnoOfZeroEigenvalus\u001b[0m\u001b[0;34m)\u001b[0m\u001b[0;34m\u001b[0m\u001b[0;34m\u001b[0m\u001b[0m\n\u001b[0;32m---> 22\u001b[0;31m \u001b[0mZ_inv\u001b[0m \u001b[0;34m=\u001b[0m \u001b[0mnp\u001b[0m\u001b[0;34m.\u001b[0m\u001b[0mlinalg\u001b[0m\u001b[0;34m.\u001b[0m\u001b[0minv\u001b[0m\u001b[0;34m(\u001b[0m\u001b[0mZ\u001b[0m\u001b[0;34m)\u001b[0m\u001b[0;34m\u001b[0m\u001b[0;34m\u001b[0m\u001b[0m\n\u001b[0m\u001b[1;32m     23\u001b[0m \u001b[0mprint\u001b[0m\u001b[0;34m(\u001b[0m\u001b[0mZ_inv\u001b[0m\u001b[0;34m)\u001b[0m\u001b[0;34m\u001b[0m\u001b[0;34m\u001b[0m\u001b[0m\n",
      "\u001b[0;32m<__array_function__ internals>\u001b[0m in \u001b[0;36minv\u001b[0;34m(*args, **kwargs)\u001b[0m\n",
      "\u001b[0;32m~/anaconda3/envs/mdanalysis/lib/python3.6/site-packages/numpy/linalg/linalg.py\u001b[0m in \u001b[0;36minv\u001b[0;34m(a)\u001b[0m\n\u001b[1;32m    544\u001b[0m     \u001b[0msignature\u001b[0m \u001b[0;34m=\u001b[0m \u001b[0;34m'D->D'\u001b[0m \u001b[0;32mif\u001b[0m \u001b[0misComplexType\u001b[0m\u001b[0;34m(\u001b[0m\u001b[0mt\u001b[0m\u001b[0;34m)\u001b[0m \u001b[0;32melse\u001b[0m \u001b[0;34m'd->d'\u001b[0m\u001b[0;34m\u001b[0m\u001b[0;34m\u001b[0m\u001b[0m\n\u001b[1;32m    545\u001b[0m     \u001b[0mextobj\u001b[0m \u001b[0;34m=\u001b[0m \u001b[0mget_linalg_error_extobj\u001b[0m\u001b[0;34m(\u001b[0m\u001b[0m_raise_linalgerror_singular\u001b[0m\u001b[0;34m)\u001b[0m\u001b[0;34m\u001b[0m\u001b[0;34m\u001b[0m\u001b[0m\n\u001b[0;32m--> 546\u001b[0;31m     \u001b[0mainv\u001b[0m \u001b[0;34m=\u001b[0m \u001b[0m_umath_linalg\u001b[0m\u001b[0;34m.\u001b[0m\u001b[0minv\u001b[0m\u001b[0;34m(\u001b[0m\u001b[0ma\u001b[0m\u001b[0;34m,\u001b[0m \u001b[0msignature\u001b[0m\u001b[0;34m=\u001b[0m\u001b[0msignature\u001b[0m\u001b[0;34m,\u001b[0m \u001b[0mextobj\u001b[0m\u001b[0;34m=\u001b[0m\u001b[0mextobj\u001b[0m\u001b[0;34m)\u001b[0m\u001b[0;34m\u001b[0m\u001b[0;34m\u001b[0m\u001b[0m\n\u001b[0m\u001b[1;32m    547\u001b[0m     \u001b[0;32mreturn\u001b[0m \u001b[0mwrap\u001b[0m\u001b[0;34m(\u001b[0m\u001b[0mainv\u001b[0m\u001b[0;34m.\u001b[0m\u001b[0mastype\u001b[0m\u001b[0;34m(\u001b[0m\u001b[0mresult_t\u001b[0m\u001b[0;34m,\u001b[0m \u001b[0mcopy\u001b[0m\u001b[0;34m=\u001b[0m\u001b[0;32mFalse\u001b[0m\u001b[0;34m)\u001b[0m\u001b[0;34m)\u001b[0m\u001b[0;34m\u001b[0m\u001b[0;34m\u001b[0m\u001b[0m\n\u001b[1;32m    548\u001b[0m \u001b[0;34m\u001b[0m\u001b[0m\n",
      "\u001b[0;32m~/anaconda3/envs/mdanalysis/lib/python3.6/site-packages/numpy/linalg/linalg.py\u001b[0m in \u001b[0;36m_raise_linalgerror_singular\u001b[0;34m(err, flag)\u001b[0m\n\u001b[1;32m     86\u001b[0m \u001b[0;34m\u001b[0m\u001b[0m\n\u001b[1;32m     87\u001b[0m \u001b[0;32mdef\u001b[0m \u001b[0m_raise_linalgerror_singular\u001b[0m\u001b[0;34m(\u001b[0m\u001b[0merr\u001b[0m\u001b[0;34m,\u001b[0m \u001b[0mflag\u001b[0m\u001b[0;34m)\u001b[0m\u001b[0;34m:\u001b[0m\u001b[0;34m\u001b[0m\u001b[0;34m\u001b[0m\u001b[0m\n\u001b[0;32m---> 88\u001b[0;31m     \u001b[0;32mraise\u001b[0m \u001b[0mLinAlgError\u001b[0m\u001b[0;34m(\u001b[0m\u001b[0;34m\"Singular matrix\"\u001b[0m\u001b[0;34m)\u001b[0m\u001b[0;34m\u001b[0m\u001b[0;34m\u001b[0m\u001b[0m\n\u001b[0m\u001b[1;32m     89\u001b[0m \u001b[0;34m\u001b[0m\u001b[0m\n\u001b[1;32m     90\u001b[0m \u001b[0;32mdef\u001b[0m \u001b[0m_raise_linalgerror_nonposdef\u001b[0m\u001b[0;34m(\u001b[0m\u001b[0merr\u001b[0m\u001b[0;34m,\u001b[0m \u001b[0mflag\u001b[0m\u001b[0;34m)\u001b[0m\u001b[0;34m:\u001b[0m\u001b[0;34m\u001b[0m\u001b[0;34m\u001b[0m\u001b[0m\n",
      "\u001b[0;31mLinAlgError\u001b[0m: Singular matrix"
     ]
    }
   ],
   "source": [
    "X = np.array([[1,2,3,4],\n",
    "              [7,14,11,12]])\n",
    "\n",
    "print(\"Rank of X: \", matrix_rank(X))\n",
    "\n",
    "Z = X.T.dot(X)\n",
    "print(\"Rank of Z:\", matrix_rank(Z))\n",
    "print(Z)\n",
    "print(\"Determinant of Z (X^T.X): \", det(Z))\n",
    "\n",
    "eigenvalues, eigenvectors = np.linalg.eig(Z)\n",
    "print(\"\\nEigenvalues of Z: \\n\", eigenvalues)\n",
    "\n",
    "noOfZeroEigenvalus = 0\n",
    "for i in eigenvalues:\n",
    "    if i>0:\n",
    "        noOfZeroEigenvalus+=0\n",
    "    else:\n",
    "        noOfZeroEigenvalus+=1\n",
    "\n",
    "print(\"\\nNumber of zero/negative eigenvalues: \", noOfZeroEigenvalus)\n",
    "Z_inv = np.linalg.inv(Z)\n",
    "print(Z_inv)"
   ]
  },
  {
   "cell_type": "markdown",
   "metadata": {},
   "source": [
    "## Finding the Singularity Problem of $(X^TX)^{-1}$"
   ]
  },
  {
   "cell_type": "code",
   "execution_count": 33,
   "metadata": {},
   "outputs": [
    {
     "name": "stdout",
     "output_type": "stream",
     "text": [
      "Rank of X:  2\n",
      "Rank of Z: 2\n",
      "[[ 50 100  80  88]\n",
      " [100 200 160 176]\n",
      " [ 80 160 130 144]\n",
      " [ 88 176 144 160]]\n",
      "Determinant of Z (X^T.X):  0.0\n",
      "\n",
      "Eigenvalues of Z: \n",
      " [ 5.36563313e+02  3.43668670e+00 -2.40578862e-14 -1.15269744e-14]\n",
      "\n",
      "Number of zero/negative eigenvalues:  2\n",
      "\n",
      "-------- Fixing the Singularity of (X^T)X ------------\n",
      "\n",
      "Diagonal Matrix: \n",
      " [[0.001 0.    0.    0.   ]\n",
      " [0.    0.001 0.    0.   ]\n",
      " [0.    0.    0.001 0.   ]\n",
      " [0.    0.    0.    0.001]]\n",
      "\n",
      "Z + Diagonal Matrix: \n",
      "[[ 50.001 100.     80.     88.   ]\n",
      " [100.    200.001 160.    176.   ]\n",
      " [ 80.    160.    130.001 144.   ]\n",
      " [ 88.    176.    144.    160.001]]\n",
      "\n",
      "Eigenvalues of (Z + Diagonal: )\n",
      "[5.36564313e+02+0.0000000e+00j 3.43768670e+00+0.0000000e+00j\n",
      " 1.00000000e-03+9.3634816e-15j 1.00000000e-03-9.3634816e-15j]\n",
      "\n",
      "Determinant of Z (X^T.X) after adding the diagonal matrix:  0.0018445400010308195\n",
      "\n",
      "Inverse of X^T.X:\n",
      "[[ 806.97084379 -386.05831243  -69.43736646   43.32353863]\n",
      " [-386.05831243  227.88337513 -138.87473292   86.64707727]\n",
      " [ -69.43736647 -138.87473291  694.1622303  -433.79053832]\n",
      " [  43.32353864   86.64707727 -433.79053832  271.27630776]]\n"
     ]
    }
   ],
   "source": [
    "X = np.array([[1,2,3,4],\n",
    "              [7,14,11,12]])\n",
    "\n",
    "print(\"Rank of X: \", matrix_rank(X))\n",
    "\n",
    "Z = X.T.dot(X)\n",
    "print(\"Rank of Z:\", matrix_rank(Z))\n",
    "print(Z)\n",
    "print(\"Determinant of Z (X^T.X): \", det(Z))\n",
    "\n",
    "eigenvalues, eigenvectors = np.linalg.eig(Z)\n",
    "print(\"\\nEigenvalues of Z: \\n\", eigenvalues)\n",
    "\n",
    "noOfZeroEigenvalus = 0\n",
    "for i in eigenvalues:\n",
    "    if i>0:\n",
    "        noOfZeroEigenvalus+=0\n",
    "    else:\n",
    "        noOfZeroEigenvalus+=1\n",
    "\n",
    "print(\"\\nNumber of zero/negative eigenvalues: \", noOfZeroEigenvalus)\n",
    "\n",
    "print(\"\\n-------- Fixing the Singularity of (X^T)X ------------\")\n",
    "\n",
    "diagonal = np.array([[0.001,0,0,0],\n",
    "                     [0,0.001,0,0],\n",
    "                     [0,0,0.001,0],\n",
    "                     [0,0,0,0.001]])\n",
    "\n",
    "print(\"\\nDiagonal Matrix: \\n\", diagonal)\n",
    "\n",
    "print(\"\\nZ + Diagonal Matrix: \")\n",
    "Z = Z + diagonal\n",
    "print(Z)\n",
    "\n",
    "eigenvalues, eigenvectors = np.linalg.eig(Z)\n",
    "print(\"\\nEigenvalues of (Z + Diagonal: )\")\n",
    "print(eigenvalues)\n",
    "\n",
    "\n",
    "print(\"\\nDeterminant of Z (X^T.X) after adding the diagonal matrix: \", det(Z))\n",
    "\n",
    "# Invert X^T.X\n",
    "Z_inv = np.linalg.inv(Z)\n",
    "print(\"\\nInverse of X^T.X:\")\n",
    "print(Z_inv)"
   ]
  },
  {
   "cell_type": "code",
   "execution_count": null,
   "metadata": {},
   "outputs": [],
   "source": []
  }
 ],
 "metadata": {
  "interpreter": {
   "hash": "7c2ff857100bde34f48f5e0e98e176447aec4667c4de751b477b7367cfbdc006"
  },
  "kernelspec": {
   "display_name": "Python 3.6.12 ('mdanalysis')",
   "language": "python",
   "name": "python3"
  },
  "language_info": {
   "codemirror_mode": {
    "name": "ipython",
    "version": 3
   },
   "file_extension": ".py",
   "mimetype": "text/x-python",
   "name": "python",
   "nbconvert_exporter": "python",
   "pygments_lexer": "ipython3",
   "version": "3.6.12"
  },
  "orig_nbformat": 4
 },
 "nbformat": 4,
 "nbformat_minor": 2
}
